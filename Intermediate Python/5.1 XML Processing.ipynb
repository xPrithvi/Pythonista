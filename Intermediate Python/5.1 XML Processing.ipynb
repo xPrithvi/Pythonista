{
 "cells": [
  {
   "cell_type": "markdown",
   "id": "548edd31",
   "metadata": {},
   "source": [
    "# 5.1 XML Processing"
   ]
  },
  {
   "cell_type": "markdown",
   "id": "39820657",
   "metadata": {},
   "source": [
    "SQL databases are useful for storing large amounts of data. However, sometimes we want to store data in less complicated data structure. This is useful for as a format for **data interchange**. For example, we have already seen how JSON can do this since it is independent of programming language and platform. XML (Extensible Markup Language) is another such data format."
   ]
  },
  {
   "cell_type": "code",
   "execution_count": null,
   "id": "9a11cdc7",
   "metadata": {},
   "outputs": [],
   "source": []
  }
 ],
 "metadata": {
  "kernelspec": {
   "display_name": "Python 3 (ipykernel)",
   "language": "python",
   "name": "python3"
  },
  "language_info": {
   "codemirror_mode": {
    "name": "ipython",
    "version": 3
   },
   "file_extension": ".py",
   "mimetype": "text/x-python",
   "name": "python",
   "nbconvert_exporter": "python",
   "pygments_lexer": "ipython3",
   "version": "3.10.1"
  }
 },
 "nbformat": 4,
 "nbformat_minor": 5
}
