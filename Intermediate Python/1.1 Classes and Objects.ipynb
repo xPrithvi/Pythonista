{
 "cells": [
  {
   "cell_type": "markdown",
   "id": "9655e7e4",
   "metadata": {},
   "source": [
    "# Classes and Objects"
   ]
  },
  {
   "cell_type": "markdown",
   "id": "0910c282",
   "metadata": {},
   "source": [
    "Python is an object-orientated programming language. Objects allow programmers to create abstract models of things. Classes are one of the most useful types of objects. Consider a simple class below,"
   ]
  },
  {
   "cell_type": "code",
   "execution_count": 1,
   "id": "7b0fd704",
   "metadata": {},
   "outputs": [],
   "source": [
    "# Creating a class,\n",
    "\n",
    "class Person:\n",
    "    \"\"\"This is a class.\"\"\"\n",
    "    \n",
    "    def __init__(self):\n",
    "        \"\"\"This function is called the constructor or intialiser and is\n",
    "        immediatly executed when an instance of the class is created.\"\"\"\n",
    "        pass"
   ]
  },
  {
   "cell_type": "markdown",
   "id": "5a9007a7",
   "metadata": {},
   "source": [
    "Note that a class does not require a constuctor. Let show the our class is indeed an object in Python,"
   ]
  },
  {
   "cell_type": "code",
   "execution_count": 2,
   "id": "fe2298a3",
   "metadata": {},
   "outputs": [
    {
     "name": "stdout",
     "output_type": "stream",
     "text": [
      "<__main__.Person object at 0x0000015C96D85F90>\n"
     ]
    }
   ],
   "source": [
    "# Creating an instance of the class,\n",
    "john = Person()\n",
    "print(john)"
   ]
  },
  {
   "cell_type": "markdown",
   "id": "21774edb",
   "metadata": {},
   "source": [
    "Our class isn't very useful at the moment. Let us make it more useful by adding class variables and object variables. "
   ]
  },
  {
   "cell_type": "code",
   "execution_count": 3,
   "id": "982462b7",
   "metadata": {},
   "outputs": [],
   "source": [
    "class Person:\n",
    "    \"\"\"This is a class.\"\"\"\n",
    "    \n",
    "    # Class variables.\n",
    "    number_of_people = 0\n",
    "    \n",
    "    def __init__(self, name, sex, age, height):\n",
    "        \"\"\"This function is called the constructor or intialiser and is\n",
    "        immediatly executed when an instance of the class is created.\"\"\"\n",
    "        \n",
    "        # Object variables\n",
    "        self.name = name\n",
    "        self.sex = sex\n",
    "        self.age = age\n",
    "        self.height = height\n",
    "        \n",
    "        # Updating class variable\n",
    "        Person.number_of_people += 1"
   ]
  },
  {
   "cell_type": "markdown",
   "id": "382aeca6",
   "metadata": {},
   "source": [
    "Object variables can only be accessed within the scope of the object instance created. However, class variables are shared between all instances of the object created. To refer to a class variable we must use *ClassName.Variable*."
   ]
  },
  {
   "cell_type": "code",
   "execution_count": 4,
   "id": "1c0fdd5f",
   "metadata": {},
   "outputs": [
    {
     "name": "stdout",
     "output_type": "stream",
     "text": [
      "2\n",
      "Adam Male 32 180\n",
      "Eve Female 32 165\n"
     ]
    }
   ],
   "source": [
    "# Creating class instances,\n",
    "adam = Person(\"Adam\", \"Male\", 32, 180)\n",
    "eve = Person(\"Eve\", \"Female\", 32, 165)\n",
    "\n",
    "# Printing the number of people,\n",
    "print(Person.number_of_people)\n",
    "\n",
    "# Print out the object variables,\n",
    "print(adam.name, adam.sex, adam.age, adam.height)\n",
    "print(eve.name, eve.sex, eve.age, eve.height)"
   ]
  },
  {
   "cell_type": "markdown",
   "id": "e168485b",
   "metadata": {},
   "source": [
    "We can use the special class methods *__str__* to return a string when we print an instance of the class and *__del__* to delete the class instance."
   ]
  },
  {
   "cell_type": "code",
   "execution_count": 5,
   "id": "d2410dd3",
   "metadata": {},
   "outputs": [],
   "source": [
    "class Person:\n",
    "    \"\"\"This is a class.\"\"\"\n",
    "    \n",
    "    # Class variables.\n",
    "    number_of_people = 0\n",
    "    \n",
    "    def __init__(self, name, sex, age, height):\n",
    "        \"\"\"This function is called the constructor or intialiser and is\n",
    "        immediatly executed when an instance of the class is created.\"\"\"\n",
    "        \n",
    "        # Object variables\n",
    "        self.name = name\n",
    "        self.sex = sex\n",
    "        self.age = age\n",
    "        self.height = height\n",
    "        \n",
    "        # Updating class variable\n",
    "        Person.number_of_people += 1\n",
    "        \n",
    "    def __str__(self):\n",
    "        return \"Name: {}, Sex {}, Age, {}, Height, {}\".format(self.name, self.sex, self.age, self.height)\n",
    "    \n",
    "    def __del__(self):\n",
    "        Person.number_of_people -= 1"
   ]
  },
  {
   "cell_type": "markdown",
   "id": "123e7e0b",
   "metadata": {},
   "source": [
    "Putting it all together,"
   ]
  },
  {
   "cell_type": "code",
   "execution_count": 6,
   "id": "ca402705",
   "metadata": {},
   "outputs": [
    {
     "name": "stdout",
     "output_type": "stream",
     "text": [
      "0\n",
      "2\n",
      "Name: Alice, Sex Female, Age, 23, Height, 172\n",
      "Name: Jay, Sex Male, Age, 27, Height, 191\n",
      "0\n"
     ]
    }
   ],
   "source": [
    "# Resetting the number of people,\n",
    "Person.number_of_people = 0\n",
    "\n",
    "# Creating the people,\n",
    "alice = Person(\"Alice\", \"Female\", 23, 172)\n",
    "jay = Person(\"Jay\", \"Male\", 27, 191)\n",
    "print(Person.number_of_people)\n",
    "\n",
    "print(alice)\n",
    "print(jay)\n",
    "\n",
    "# Deleting the people,\n",
    "alice.__del__()\n",
    "jay.__del__()\n",
    "print(Person.number_of_people)"
   ]
  }
 ],
 "metadata": {
  "kernelspec": {
   "display_name": "Python 3 (ipykernel)",
   "language": "python",
   "name": "python3"
  },
  "language_info": {
   "codemirror_mode": {
    "name": "ipython",
    "version": 3
   },
   "file_extension": ".py",
   "mimetype": "text/x-python",
   "name": "python",
   "nbconvert_exporter": "python",
   "pygments_lexer": "ipython3",
   "version": "3.10.1"
  }
 },
 "nbformat": 4,
 "nbformat_minor": 5
}
