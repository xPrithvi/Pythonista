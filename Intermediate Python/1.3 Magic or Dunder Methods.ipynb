{
 "cells": [
  {
   "cell_type": "markdown",
   "id": "14dec3c2",
   "metadata": {},
   "source": [
    "# 1.3 Magic or Dunder Methods\n"
   ]
  },
  {
   "cell_type": "markdown",
   "id": "7acfe339",
   "metadata": {},
   "source": [
    "We have already come across magic methods or dunder \"double underscore\" methods such as __init__, __str__, __del__ and many others. In this section, we will expore them in more detail. Magic methods are called implicitly instead of explicity like regular methods. Going back to our vector example, we introduce the **repr** and **abs** methods,"
   ]
  },
  {
   "cell_type": "code",
   "execution_count": 1,
   "id": "8d464923",
   "metadata": {},
   "outputs": [],
   "source": [
    "import math\n",
    "\n",
    "class Vector:\n",
    "    \"\"\"The vector object class.\"\"\"\n",
    "\n",
    "    def __init__(self, x, y):\n",
    "        \"\"\"Constructor method.\"\"\"\n",
    "        self.x, self.y = x, y\n",
    "\n",
    "    def __add__(self, other_vector):\n",
    "        \"\"\"Overiding the addition operator. Vector addition.\"\"\"\n",
    "        return Vector(self.x + other_vector.x, self.y + other_vector.y)\n",
    "    \n",
    "    def __sub__(self, other_vector):\n",
    "        \"\"\"Overiding the subtraction operator. Vector substraction\"\"\"\n",
    "        return Vector(self.x - other_vector.x, self.y - other_vector.y)\n",
    "    \n",
    "    def __mul__(self, other_vector):\n",
    "        \"\"\"Overiding the multiplication operator. Vector dot product\"\"\"\n",
    "        return self.x*other_vector.x + self.y*other_vector.y\n",
    "\n",
    "    def __repr__(self):\n",
    "        \"\"\"Representation method.\"\"\"\n",
    "        return \"X: {}, Y: {}\".format(self.x, self.y)\n",
    "    \n",
    "    def __abs__(self):\n",
    "        \"\"\"Returns the magnitude of the vector.\"\"\"\n",
    "        return round(math.sqrt(self.x**2 + self.y**2), 3)"
   ]
  },
  {
   "cell_type": "markdown",
   "id": "01034f64",
   "metadata": {},
   "source": [
    "For more on magic methods: https://rszalski.github.io/magicmethods/"
   ]
  },
  {
   "cell_type": "code",
   "execution_count": 2,
   "id": "0fd5729b",
   "metadata": {},
   "outputs": [
    {
     "name": "stdout",
     "output_type": "stream",
     "text": [
      "X: 3, Y: 7\n",
      "7.616\n"
     ]
    }
   ],
   "source": [
    "v1 = Vector(1, 3)\n",
    "v2 = Vector(2, 4)\n",
    "v3 = v1 + v2 \n",
    "\n",
    "print(v3)\n",
    "print(abs(v3))"
   ]
  }
 ],
 "metadata": {
  "kernelspec": {
   "display_name": "Python 3 (ipykernel)",
   "language": "python",
   "name": "python3"
  },
  "language_info": {
   "codemirror_mode": {
    "name": "ipython",
    "version": 3
   },
   "file_extension": ".py",
   "mimetype": "text/x-python",
   "name": "python",
   "nbconvert_exporter": "python",
   "pygments_lexer": "ipython3",
   "version": "3.10.1"
  }
 },
 "nbformat": 4,
 "nbformat_minor": 5
}
