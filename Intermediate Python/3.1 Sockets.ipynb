{
 "cells": [
  {
   "cell_type": "markdown",
   "id": "e5ab30d2",
   "metadata": {},
   "source": [
    "# 3.1 Sockets"
   ]
  },
  {
   "cell_type": "markdown",
   "id": "43a01c5e",
   "metadata": {},
   "source": [
    "A **socket** in Python refers to the endpoint of a communication channel most generally. That is, if we have a connection between two devices, we have a socket associated with each device. We can have many different types of sockets depending on the channel of communication, e.g internet or bluetooth socket.  "
   ]
  },
  {
   "cell_type": "markdown",
   "id": "f9dec956",
   "metadata": {},
   "source": [
    "## TCP Internet Socket"
   ]
  },
  {
   "cell_type": "code",
   "execution_count": null,
   "id": "d1ceed2c",
   "metadata": {},
   "outputs": [],
   "source": [
    "import socket\n",
    "\n",
    "# Creating socket object for a TCP internet connection,\n",
    "sock = socket.socket(socket.AF_INET, socket.SOCK_STREAM)"
   ]
  },
  {
   "cell_type": "markdown",
   "id": "7041ced0",
   "metadata": {},
   "source": [
    "_socket.AF_INET_ specifies that we have an **internet connection** while _socket.SOCK_STREAM_ tells the socket to use TCP as our protocol."
   ]
  },
  {
   "cell_type": "markdown",
   "id": "95bfc151",
   "metadata": {},
   "source": [
    "### Basic Client-Server Connection\n",
    "\n",
    "Let us now consider connecting a cilent to a server via sockets. The server machine should have the following code,"
   ]
  },
  {
   "cell_type": "code",
   "execution_count": null,
   "id": "0d2919c0",
   "metadata": {},
   "outputs": [],
   "source": [
    "#!/usr/bin/env python\n",
    "# coding: utf-8\n",
    "# server.py\n",
    "\n",
    "\"\"\"This code will be ran by the server.\"\"\"\n",
    "\n",
    "import socket\n",
    "\n",
    "# Getting the server's host IP,\n",
    "host_ip = socket.gethostbyname(socket.gethostname())\n",
    "\n",
    "# Creating the socket object,\n",
    "server_socket = socket.socket(socket.AF_INET, socket.SOCK_STREAM)\n",
    "\n",
    "# Opening the socket,\n",
    "server_socket.bind((host_ip, 56781)) # <--- IP and port must be provided.\n",
    "server_socket.listen(5) # <-- Socket has a limit of five connections.\n",
    "\n",
    "while True:\n",
    "\n",
    "    # Accepting any client,\n",
    "    client, client_ip = server_socket.accept()\n",
    "\n",
    "    # Sending message to client,\n",
    "    connected_string = \"[Server]: Connection established via {} at {}\".format(client, client_ip)\n",
    "    print(connected_string)\n",
    "    client.send(connected_string.encode()) # <-- We need to encode messages before sending them.\n",
    "\n",
    "    # Closing connection,\n",
    "    client.close()"
   ]
  },
  {
   "cell_type": "markdown",
   "id": "858ee382",
   "metadata": {},
   "source": [
    "We create the server socket by specifying IP address and port of its machine and then wait for a connection initiated by the client. Once the connection has been made, we send an encode message into a **byte stream** for the client machine and then close the server socket."
   ]
  },
  {
   "cell_type": "code",
   "execution_count": null,
   "id": "a42fdb03",
   "metadata": {},
   "outputs": [],
   "source": [
    "#!/usr/bin/env python\n",
    "# coding: utf-8\n",
    "# client.py\n",
    "\n",
    "\"\"\"This code will be ran by the cilent.\"\"\"\n",
    "\n",
    "import socket\n",
    "\n",
    "# In this case the client is the same device as the server,\n",
    "server_ip = socket.gethostbyname(socket.gethostname())\n",
    "\n",
    "# Creating the client socket,\n",
    "client_socket = socket.socket(socket.AF_INET, socket.SOCK_STREAM)\n",
    "\n",
    "# Connecting the cilent to the sever by connecting the sockets,\n",
    "client_socket.connect((server_ip, 56781))\n",
    "\n",
    "# Accepting and decoding the message sent from the server,\n",
    "message = client_socket.recv(1024).decode()\n",
    "\n",
    "# closing the client socket,\n",
    "client_socket.close()"
   ]
  },
  {
   "cell_type": "markdown",
   "id": "5b7f134b",
   "metadata": {},
   "source": [
    "The client socket is created and we attempt to connect to the server socket. When connected, we accepted and decode the message send by the server. Our last step is to close the client socket."
   ]
  },
  {
   "cell_type": "markdown",
   "id": "66b36ea3",
   "metadata": {},
   "source": [
    "### One Way TCP Chat (Server-Client)"
   ]
  },
  {
   "cell_type": "code",
   "execution_count": null,
   "id": "40cb7ebf",
   "metadata": {},
   "outputs": [],
   "source": [
    "#!/usr/bin/env python\n",
    "# coding: utf-8\n",
    "# server.py\n",
    "\n",
    "\"\"\"This code will be ran by the server.\"\"\"\n",
    "\n",
    "import socket\n",
    "import threading\n",
    "\n",
    "# GLOBAL VARIABLES,\n",
    "SERVER_PORT = 56781\n",
    "\n",
    "class Server():\n",
    "\n",
    "    def __init__(self, port):\n",
    "\n",
    "        # The port the server will communicate to clients by,\n",
    "        self.port = port\n",
    "        self.client_connected = False\n",
    "        self.client_port = None\n",
    "\n",
    "        # Getting the server's host IP,\n",
    "        self.host_ip = socket.gethostbyname(socket.gethostname())\n",
    "\n",
    "        # Creating the socket object,\n",
    "        self.server_socket = socket.socket(socket.AF_INET, socket.SOCK_STREAM)\n",
    "\n",
    "        # Opening the socket,\n",
    "        self.server_socket.bind((self.host_ip, self.port)) # <--- IP and port must be provided.\n",
    "        self.server_socket.listen(5) # <-- Socket has a limit of five connections.\n",
    "\n",
    "    def accept_client(self):\n",
    "\n",
    "        while self.client_connected == False:\n",
    "\n",
    "            # Accepting any client,\n",
    "            print(\"[Server (You)]: Waiting for client connection...\")\n",
    "            self.client, self.client_address = self.server_socket.accept()\n",
    "\n",
    "            # Sending message to client,\n",
    "            connected_string = \"[Server]: Connection established.\"\n",
    "            print(\"[Server (You)]: Connection established via {} at {}\".format(self.client, self.client_address))\n",
    "            self.client.send(connected_string.encode()) # <-- We need to encode messages before sending them.\n",
    "\n",
    "            # Breaking out of loop,\n",
    "            self.client_connected = True\n",
    "\n",
    "    def send_messages(self):\n",
    "\n",
    "        while True:\n",
    "\n",
    "            try:\n",
    "                # Sending message to client,\n",
    "                message_string = \"[Server]: \" + input(\">> \")\n",
    "                self.client.send(message_string.encode())\n",
    "            except Exception as error:\n",
    "                print(\"[Server (You)]: \" + str(error))\n",
    "\n",
    "if __name__ == \"__main__\":\n",
    "\n",
    "    banner = \"\"\"\n",
    " ____                           \n",
    "/ ___|  ___ _ ____   _____ _ __ \n",
    "\\___ \\ / _ \\ '__\\ \\ / / _ \\ '__|\n",
    " ___) |  __/ |   \\ V /  __/ |   \n",
    "|____/ \\___|_|    \\_/ \\___|_|\n",
    "\"\"\"\n",
    "\n",
    "    print(banner)\n",
    "    print(\"--------------------------------------------------------\")\n",
    "\n",
    "    server = Server(SERVER_PORT)\n",
    "    server.accept_client()\n",
    "\n",
    "    outgoing_thread = threading.Thread(target = server.send_messages)\n",
    "    outgoing_thread.start()\n"
   ]
  },
  {
   "cell_type": "code",
   "execution_count": 3,
   "id": "c24903fc",
   "metadata": {},
   "outputs": [
    {
     "ename": "ConnectionRefusedError",
     "evalue": "[WinError 10061] No connection could be made because the target machine actively refused it",
     "output_type": "error",
     "traceback": [
      "\u001b[1;31m---------------------------------------------------------------------------\u001b[0m",
      "\u001b[1;31mConnectionRefusedError\u001b[0m                    Traceback (most recent call last)",
      "Input \u001b[1;32mIn [3]\u001b[0m, in \u001b[0;36m<cell line: 45>\u001b[1;34m()\u001b[0m\n\u001b[0;32m     43\u001b[0m             \u001b[38;5;28mself\u001b[39m\u001b[38;5;241m.\u001b[39mclient_socket\u001b[38;5;241m.\u001b[39msend(message_string\u001b[38;5;241m.\u001b[39mencode())\n\u001b[0;32m     45\u001b[0m \u001b[38;5;28;01mif\u001b[39;00m \u001b[38;5;18m__name__\u001b[39m \u001b[38;5;241m==\u001b[39m \u001b[38;5;124m\"\u001b[39m\u001b[38;5;124m__main__\u001b[39m\u001b[38;5;124m\"\u001b[39m:\n\u001b[1;32m---> 46\u001b[0m     client \u001b[38;5;241m=\u001b[39m \u001b[43mClient\u001b[49m\u001b[43m(\u001b[49m\u001b[43mSERVER_ADDRESS\u001b[49m\u001b[43m)\u001b[49m\n\u001b[0;32m     48\u001b[0m     incoming_thread \u001b[38;5;241m=\u001b[39m threading\u001b[38;5;241m.\u001b[39mThread(target \u001b[38;5;241m=\u001b[39m client\u001b[38;5;241m.\u001b[39mreceive_messages)\n\u001b[0;32m     49\u001b[0m     outgoing_thread \u001b[38;5;241m=\u001b[39m threading\u001b[38;5;241m.\u001b[39mThread(target \u001b[38;5;241m=\u001b[39m client\u001b[38;5;241m.\u001b[39msend_messages)\n",
      "Input \u001b[1;32mIn [3]\u001b[0m, in \u001b[0;36mClient.__init__\u001b[1;34m(self, server_address)\u001b[0m\n\u001b[0;32m     21\u001b[0m \u001b[38;5;28mself\u001b[39m\u001b[38;5;241m.\u001b[39mclient_socket \u001b[38;5;241m=\u001b[39m socket\u001b[38;5;241m.\u001b[39msocket(socket\u001b[38;5;241m.\u001b[39mAF_INET, socket\u001b[38;5;241m.\u001b[39mSOCK_STREAM)\n\u001b[0;32m     23\u001b[0m \u001b[38;5;66;03m# Connecting the cilent to the sever by connecting the sockets,\u001b[39;00m\n\u001b[1;32m---> 24\u001b[0m \u001b[38;5;28;43mself\u001b[39;49m\u001b[38;5;241;43m.\u001b[39;49m\u001b[43mclient_socket\u001b[49m\u001b[38;5;241;43m.\u001b[39;49m\u001b[43mconnect\u001b[49m\u001b[43m(\u001b[49m\u001b[43mserver_address\u001b[49m\u001b[43m)\u001b[49m\n\u001b[0;32m     26\u001b[0m \u001b[38;5;66;03m# Accepting and decoding the message sent from the server,\u001b[39;00m\n\u001b[0;32m     27\u001b[0m connected_string \u001b[38;5;241m=\u001b[39m client_socket\u001b[38;5;241m.\u001b[39mrecv(\u001b[38;5;241m1024\u001b[39m)\u001b[38;5;241m.\u001b[39mdecode()\n",
      "\u001b[1;31mConnectionRefusedError\u001b[0m: [WinError 10061] No connection could be made because the target machine actively refused it"
     ]
    }
   ],
   "source": [
    "#!/usr/bin/env python\n",
    "# coding: utf-8\n",
    "# client.py\n",
    "\n",
    "\"\"\"This code will be ran by the cilent.\"\"\"\n",
    "\n",
    "import socket\n",
    "import threading\n",
    "\n",
    "# GLOBAL VARIABLES,\n",
    "SERVER_ADDRESS = (socket.gethostbyname(socket.gethostname()), 56781)\n",
    "\"\"\"^In this case, the client is the same device as the server\"\"\"\n",
    "\n",
    "class Client():\n",
    "\n",
    "    def __init__(self, server_address):\n",
    "\n",
    "        self.server_address = server_address\n",
    "\n",
    "        # Creating the client socket,\n",
    "        self.client_socket = socket.socket(socket.AF_INET, socket.SOCK_STREAM)\n",
    "\n",
    "        # Connecting the cilent to the sever by connecting the sockets,\n",
    "        print(\"[Client (You): Attempting connection to server...\")\n",
    "        self.client_socket.connect(server_address)\n",
    "\n",
    "        # Accepting and decoding the message sent from the server,\n",
    "        connected_string = self.client_socket.recv(1024).decode()\n",
    "        print(connected_string)\n",
    "\n",
    "    def receive_messages(self):\n",
    "\n",
    "        while True:\n",
    "\n",
    "            # Accepting and decoding the message sent from the server,\n",
    "            message_string = self.client_socket.recv(1024).decode()\n",
    "            print(message_string)\n",
    "\n",
    "if __name__ == \"__main__\":\n",
    "\n",
    "    banner = \"\"\"\n",
    "  ____ _ _            _   \n",
    " / ___| (_) ___ _ __ | |_ \n",
    "| |   | | |/ _ \\ '_ \\| __|\n",
    "| |___| | |  __/ | | | |_ \n",
    " \\____|_|_|\\___|_| |_|\\__|\n",
    " \"\"\"\n",
    "\n",
    "    print(banner)\n",
    "    print(\"--------------------------------------------------------\")\n",
    "\n",
    "    client = Client(SERVER_ADDRESS)\n",
    "    incoming_thread = threading.Thread(target = client.receive_messages)\n",
    "    incoming_thread.start()\n"
   ]
  },
  {
   "cell_type": "code",
   "execution_count": null,
   "id": "901c251c",
   "metadata": {},
   "outputs": [],
   "source": []
  }
 ],
 "metadata": {
  "kernelspec": {
   "display_name": "Python 3 (ipykernel)",
   "language": "python",
   "name": "python3"
  },
  "language_info": {
   "codemirror_mode": {
    "name": "ipython",
    "version": 3
   },
   "file_extension": ".py",
   "mimetype": "text/x-python",
   "name": "python",
   "nbconvert_exporter": "python",
   "pygments_lexer": "ipython3",
   "version": "3.10.1"
  }
 },
 "nbformat": 4,
 "nbformat_minor": 5
}
