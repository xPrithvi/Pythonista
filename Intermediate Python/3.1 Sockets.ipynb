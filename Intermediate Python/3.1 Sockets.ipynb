{
 "cells": [
  {
   "cell_type": "markdown",
   "id": "e5ab30d2",
   "metadata": {},
   "source": [
    "# 3.1 Sockets"
   ]
  },
  {
   "cell_type": "markdown",
   "id": "43a01c5e",
   "metadata": {},
   "source": [
    "A **socket** in Python refers to the endpoint of a communication channel most generally. That is, if we have a connection between two devices, we have a socket associated with each device. We can have many different types of sockets depending on the channel of communication, e.g internet or bluetooth socket.  "
   ]
  },
  {
   "cell_type": "markdown",
   "id": "f9dec956",
   "metadata": {},
   "source": [
    "## TCP Internet Socket"
   ]
  },
  {
   "cell_type": "code",
   "execution_count": 2,
   "id": "d1ceed2c",
   "metadata": {},
   "outputs": [],
   "source": [
    "import socket\n",
    "\n",
    "# Creating socket object for a TCP internet connection,\n",
    "sock = socket.socket(socket.AF_INET, socket.SOCK_STREAM)"
   ]
  },
  {
   "cell_type": "markdown",
   "id": "7041ced0",
   "metadata": {},
   "source": [
    "_socket.AF_INET_ specifies that we have an **internet connection** while _socket.SOCK_STREAM_ tells the socket to use TCP as our protocol."
   ]
  },
  {
   "cell_type": "code",
   "execution_count": null,
   "id": "0d2919c0",
   "metadata": {},
   "outputs": [],
   "source": []
  }
 ],
 "metadata": {
  "kernelspec": {
   "display_name": "Python 3 (ipykernel)",
   "language": "python",
   "name": "python3"
  },
  "language_info": {
   "codemirror_mode": {
    "name": "ipython",
    "version": 3
   },
   "file_extension": ".py",
   "mimetype": "text/x-python",
   "name": "python",
   "nbconvert_exporter": "python",
   "pygments_lexer": "ipython3",
   "version": "3.10.1"
  }
 },
 "nbformat": 4,
 "nbformat_minor": 5
}
