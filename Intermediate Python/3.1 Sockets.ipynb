{
 "cells": [
  {
   "cell_type": "markdown",
   "id": "e5ab30d2",
   "metadata": {},
   "source": [
    "# 3.1 Introduction to Sockets"
   ]
  },
  {
   "cell_type": "markdown",
   "id": "43a01c5e",
   "metadata": {},
   "source": [
    "A **socket** in Python refers to the endpoint of a communication channel most generally. That is, if we have a connection between two devices, we have a socket associated with each device. We can have many different types of sockets depending on the channel of communication, e.g internet or bluetooth socket. In this notebook, we will cover the basics of TCP (Transmission Control Protocol) sockets. More on [TCP](https://www.youtube.com/watch?v=CRdL1PcherM&t=238s) and [networking models](https://www.youtube.com/watch?v=3kfO61Mensg) in general."
   ]
  },
  {
   "cell_type": "markdown",
   "id": "f9dec956",
   "metadata": {},
   "source": [
    "## TCP Internet Socket\n",
    "\n",
    "Let us create a TCP internet socket,"
   ]
  },
  {
   "cell_type": "code",
   "execution_count": 1,
   "id": "d1ceed2c",
   "metadata": {},
   "outputs": [],
   "source": [
    "import socket\n",
    "\n",
    "# Creating socket object for a TCP internet connection,\n",
    "sock = socket.socket(socket.AF_INET, socket.SOCK_STREAM)"
   ]
  },
  {
   "cell_type": "markdown",
   "id": "7041ced0",
   "metadata": {},
   "source": [
    "Remember that _socket.AF_INET_ specifies that we have an **internet connection** while _socket.SOCK_STREAM_ tells the socket to use TCP as the protocol."
   ]
  },
  {
   "cell_type": "markdown",
   "id": "95bfc151",
   "metadata": {},
   "source": [
    "### Basic Client-Server Connection\n",
    "\n",
    "Let us now consider creating a server and then connecting a cilent to it via sockets. The machine running the server should execute the code contained in _server.py_. We must specify a port through which the server will communicate with the client. "
   ]
  },
  {
   "cell_type": "code",
   "execution_count": null,
   "id": "0d2919c0",
   "metadata": {},
   "outputs": [],
   "source": [
    "#!/usr/bin/env python\n",
    "# coding: utf-8\n",
    "# server.py\n",
    "\n",
    "\"\"\"This code will be ran by the server.\"\"\"\n",
    "\n",
    "import socket\n",
    "\n",
    "SERVER_PORT = 56781\n",
    "\n",
    "# Getting the server's host IP,\n",
    "host_ip = socket.gethostbyname(socket.gethostname())\n",
    "\n",
    "# Creating the socket object,\n",
    "server_socket = socket.socket(socket.AF_INET, socket.SOCK_STREAM)\n",
    "\n",
    "# Opening the socket,\n",
    "server_socket.bind((host_ip, SERVER_PORT)) # <--- IP and port must be provided.\n",
    "server_socket.listen(5) # <-- Socket has a limit of five connections.\n",
    "\n",
    "while True:\n",
    "\n",
    "    # Accepting any client,\n",
    "    client, client_ip = server_socket.accept()\n",
    "\n",
    "    # Sending message to client,\n",
    "    connected_string = \"[Server]: Connection established!\"\n",
    "    print(\"[Server (you)]: Connection established via {} at {}\".format(client, client_ip))\n",
    "    client.send(connected_string.encode()) # <-- We need to encode messages before sending them.\n",
    "\n",
    "    # Closing connection,\n",
    "    client.close()"
   ]
  },
  {
   "cell_type": "markdown",
   "id": "858ee382",
   "metadata": {},
   "source": [
    "Once the connection with the client has been made, an encoded message in the form of a **byte stream** is sent. The client machine should execute the code contained in _client.py_."
   ]
  },
  {
   "cell_type": "code",
   "execution_count": null,
   "id": "a42fdb03",
   "metadata": {},
   "outputs": [],
   "source": [
    "#!/usr/bin/env python\n",
    "# coding: utf-8\n",
    "# client.py\n",
    "\n",
    "\"\"\"This code will be ran by the cilent.\"\"\"\n",
    "\n",
    "import socket\n",
    "\n",
    "SERVER_PORT = 56781\n",
    "\n",
    "# In this case the client is the same device as the server,\n",
    "server_ip = socket.gethostbyname(socket.gethostname())\n",
    "\n",
    "# Creating the client socket,\n",
    "client_socket = socket.socket(socket.AF_INET, socket.SOCK_STREAM)\n",
    "\n",
    "# Connecting the cilent to the sever by connecting the sockets,\n",
    "client_socket.connect((server_ip, SERVER_PORT))\n",
    "\n",
    "# Accepting and decoding the message sent from the server,\n",
    "message = client_socket.recv(1024).decode()\n",
    "print(message)\n",
    "\n",
    "# closing the client socket,\n",
    "client_socket.close()"
   ]
  },
  {
   "cell_type": "markdown",
   "id": "5b7f134b",
   "metadata": {},
   "source": [
    "The client socket is created and we attempt to connect to the server socket. When connected, we accepted and decode the message send by the server. Our last step is to close the client socket."
   ]
  },
  {
   "cell_type": "markdown",
   "id": "66b36ea3",
   "metadata": {},
   "source": [
    "### One Way TCP Chat (Server-Client)\n",
    "\n",
    "Now let us write more advanced code which allows two-way communication between the client and the server. Code for the server machine,"
   ]
  },
  {
   "cell_type": "code",
   "execution_count": null,
   "id": "40cb7ebf",
   "metadata": {},
   "outputs": [],
   "source": [
    "#!/usr/bin/env python\n",
    "# coding: utf-8\n",
    "# server.py\n",
    "\n",
    "\"\"\"This code will be ran by the server.\"\"\"\n",
    "\n",
    "import socket\n",
    "import threading\n",
    "\n",
    "# GLOBAL VARIABLES,\n",
    "SERVER_PORT = 56781\n",
    "\n",
    "class Server():\n",
    "\n",
    "    def __init__(self, port):\n",
    "\n",
    "        # The port the server will communicate to clients by,\n",
    "        self.port = port\n",
    "        self.client_connected = False\n",
    "        self.client_port = None\n",
    "\n",
    "        # Getting the server's host IP,\n",
    "        self.host_ip = socket.gethostbyname(socket.gethostname())\n",
    "\n",
    "        # Creating the socket object,\n",
    "        self.server_socket = socket.socket(socket.AF_INET, socket.SOCK_STREAM)\n",
    "\n",
    "        # Opening the socket,\n",
    "        self.server_socket.bind((self.host_ip, self.port)) # <--- IP and port must be provided.\n",
    "        self.server_socket.listen(5) # <-- Socket has a limit of five connections.\n",
    "\n",
    "    def accept_client(self):\n",
    "\n",
    "        while self.client_connected == False:\n",
    "\n",
    "            # Accepting any client,\n",
    "            print(\"[Server (You)]: Waiting for client connection...\")\n",
    "            self.client, self.client_address = self.server_socket.accept()\n",
    "\n",
    "            # Sending message to client,\n",
    "            connected_string = \"[Server]: Connection established.\"\n",
    "            print(\"[Server (You)]: Connection established via {} at {}\".format(self.client, self.client_address))\n",
    "            self.client.send(connected_string.encode()) # <-- We need to encode messages before sending them.\n",
    "\n",
    "            # Breaking out of loop,\n",
    "            self.client_connected = True\n",
    "\n",
    "    def send_message(self, string):\n",
    "\n",
    "        try:\n",
    "            message_string = \"[Server]: \" + string\n",
    "            self.client.send(message_string.encode())\n",
    "        except Exception as error:\n",
    "            print(\"[Server (You)]: \" + str(error))\n",
    "\n",
    "    def receive_message(self):\n",
    "\n",
    "        while True:\n",
    "            # Accepting and decoding the message sent from the client,\n",
    "            message_string = self.client.recv(1024).decode()\n",
    "            print(message_string)\n",
    "\n",
    "if __name__ == \"__main__\":\n",
    "\n",
    "    banner = \"\"\"\n",
    " ____                           \n",
    "/ ___|  ___ _ ____   _____ _ __ \n",
    "\\___ \\ / _ \\ '__\\ \\ / / _ \\ '__|\n",
    " ___) |  __/ |   \\ V /  __/ |   \n",
    "|____/ \\___|_|    \\_/ \\___|_|\n",
    "\"\"\"\n",
    "\n",
    "    print(banner)\n",
    "    print(\"--------------------------------------------------------\")\n",
    "\n",
    "    server = Server(SERVER_PORT)\n",
    "    server.accept_client()\n",
    "\n",
    "    incoming_thread = threading.Thread(target = server.receive_message)\n",
    "    incoming_thread.start()\n",
    "\n",
    "    while True:\n",
    "        string = input()\n",
    "        server.send_message(string)"
   ]
  },
  {
   "cell_type": "markdown",
   "id": "6e0c759a",
   "metadata": {},
   "source": [
    "For the client machine,"
   ]
  },
  {
   "cell_type": "code",
   "execution_count": null,
   "id": "c24903fc",
   "metadata": {},
   "outputs": [],
   "source": [
    "#!/usr/bin/env python\n",
    "# coding: utf-8\n",
    "# client.py\n",
    "\n",
    "\"\"\"This code will be ran by the cilent.\"\"\"\n",
    "\n",
    "import socket\n",
    "import threading\n",
    "\n",
    "# GLOBAL VARIABLES,\n",
    "SERVER_ADDRESS = (socket.gethostbyname(socket.gethostname()), 56781)\n",
    "\"\"\"^In this case, the client is the same device as the server. If not, change the host name.\"\"\"\n",
    "\n",
    "class Client():\n",
    "\n",
    "    def __init__(self, server_address):\n",
    "\n",
    "        self.server_address = server_address\n",
    "\n",
    "        # Creating the client socket,\n",
    "        self.client_socket = socket.socket(socket.AF_INET, socket.SOCK_STREAM)\n",
    "\n",
    "        # Connecting the cilent to the sever by connecting the sockets,\n",
    "        print(\"[Client (You)]: Attempting connection to server...\")\n",
    "        self.client_socket.connect(server_address)\n",
    "\n",
    "        # Accepting and decoding the message sent from the server,\n",
    "        connected_string = self.client_socket.recv(1024).decode()\n",
    "        print(connected_string)\n",
    "\n",
    "    def receive_message(self):\n",
    "\n",
    "        while True:\n",
    "\n",
    "            # Accepting and decoding the message sent from the server,\n",
    "            message_string = self.client_socket.recv(1024).decode()\n",
    "            print(message_string)\n",
    "\n",
    "    def send_message(self, string):\n",
    "\n",
    "        try:\n",
    "            # Sending message to server,\n",
    "            message_string = \"[Client]: \" + string\n",
    "            self.client_socket.send(message_string.encode())\n",
    "        except Exception as error:\n",
    "            print(\"[Client (You)]: \" + str(error))\n",
    "\n",
    "if __name__ == \"__main__\":\n",
    "\n",
    "    banner = \"\"\"\n",
    "  ____ _ _            _   \n",
    " / ___| (_) ___ _ __ | |_ \n",
    "| |   | | |/ _ \\ '_ \\| __|\n",
    "| |___| | |  __/ | | | |_ \n",
    " \\____|_|_|\\___|_| |_|\\__|\n",
    " \"\"\"\n",
    "\n",
    "    print(banner)\n",
    "    print(\"--------------------------------------------------------\")\n",
    "\n",
    "    client = Client(SERVER_ADDRESS)\n",
    "    incoming_thread = threading.Thread(target = client.receive_message)\n",
    "    incoming_thread.start()\n",
    "\n",
    "    while True:\n",
    "        string = input()\n",
    "        client.send_message(string)"
   ]
  },
  {
   "cell_type": "markdown",
   "id": "359321ff",
   "metadata": {},
   "source": [
    "More work is required regarding the way in which printing the messages are handled. Simultaneous typing results in improper printing."
   ]
  }
 ],
 "metadata": {
  "kernelspec": {
   "display_name": "Python 3 (ipykernel)",
   "language": "python",
   "name": "python3"
  },
  "language_info": {
   "codemirror_mode": {
    "name": "ipython",
    "version": 3
   },
   "file_extension": ".py",
   "mimetype": "text/x-python",
   "name": "python",
   "nbconvert_exporter": "python",
   "pygments_lexer": "ipython3",
   "version": "3.10.1"
  }
 },
 "nbformat": 4,
 "nbformat_minor": 5
}
