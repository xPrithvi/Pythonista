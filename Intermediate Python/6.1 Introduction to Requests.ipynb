{
 "cells": [
  {
   "cell_type": "markdown",
   "id": "bec54eab",
   "metadata": {},
   "source": [
    "# 6.1 Introduction to Requests"
   ]
  },
  {
   "cell_type": "markdown",
   "id": "1e2cc620",
   "metadata": {},
   "source": [
    "_requests_ is a third-party Python library created to allow Python to handle HTTP requests and it is one of the most popular non-standard library modules. The creator, Kenneth Reitz, also created [HTTP Bin](httpbin.org) which is a helpful tool for inspecting and debugging HTTP client behavior. The source code for requests can be found [here] (https://github.com/psf/requests) and is updated regularly. Its documention [here](https://requests.readthedocs.io/en/latest/)."
   ]
  },
  {
   "cell_type": "markdown",
   "id": "0380249d",
   "metadata": {},
   "source": [
    "### 6.1.1 Sending Requests\n",
    "\n",
    "To send a **HTTP _GET_ request** we can simply type the following,"
   ]
  },
  {
   "cell_type": "code",
   "execution_count": null,
   "id": "cfb863c4",
   "metadata": {},
   "outputs": [],
   "source": [
    "import requests\n",
    "\n",
    "response = requests.get(\"https://httpbin.org/get\")\n",
    "print(response)"
   ]
  },
  {
   "cell_type": "markdown",
   "id": "86d70b54",
   "metadata": {},
   "source": [
    "We see that we have an OK HTTP status. To get the full content of the response,"
   ]
  },
  {
   "cell_type": "code",
   "execution_count": null,
   "id": "55b2ad60",
   "metadata": {},
   "outputs": [],
   "source": [
    "# Response as a string,\n",
    "response_txt = response.text\n",
    "print(response_txt)\n",
    "\n",
    "# Response as a dictionary,\n",
    "response_dict = response.json()"
   ]
  },
  {
   "cell_type": "markdown",
   "id": "d1eeacaf",
   "metadata": {},
   "source": [
    "Some important things to consider when constructing our request are the **parameters** and the **user-agent**. Parameters for the GET method are useful for when we want query something on a website. Note that we can pass additional information (such as the user-agent) via the requests by including it in our **header**. In context of our request,\n",
    "\n",
    "\"Request header is sent by the client i.e. internet browser in an HTTP transaction. These headers send many details about the source of the request, e.g. the type of browser (or application in general) being used and its version.\n",
    "HTTP request headers are an important part of any HTTP communication. Websites tailor their layouts and design in accordance to the type of machine, operating system and application making the request. A collection of information on the software and hardware of the source is sometimes called “user agent”. Otherwise, content might be displayed incorrectly.\n",
    "If the website in question does not recognize the user agent, it will often default to one of these two actions. Some websites will display a default HTML version they have prepared for cases like these while others will block the request entirely.\"  ~ [Source](https://oxylabs.io/blog/http-headers-explained)\n",
    "\n",
    "To summarise, specifiying the user-agent can be useful because websites respond differently based on it. Let us consider querying Google,"
   ]
  },
  {
   "cell_type": "code",
   "execution_count": null,
   "id": "e26a2e8e",
   "metadata": {},
   "outputs": [],
   "source": [
    "# Our parameters are contained in a dictionary,\n",
    "parameters = {\n",
    "    \"q\": \"What is the weather today?\"\n",
    "}\n",
    "\n",
    "# Setting the user-agent as that of a browser,\n",
    "headers = {\"User-Agent\": \"Mozilla/5.0 (Windows NT 10.0; Win64; x64) AppleWebKit/537.36(KHTML, like Gecko) Chrome/111.0.0.0 Safari/537.36\"}\n",
    "\n",
    "# Printing the URL of the response,\n",
    "response = requests.get(\"https://www.google.co.uk/search\", params = parameters, headers = headers)\n",
    "print(response.url)"
   ]
  },
  {
   "cell_type": "markdown",
   "id": "38aa8ac6",
   "metadata": {},
   "source": [
    "The parameter _q_ contains the query string while the specified user-agent in the header of the request allows us to recover the correct URL. Without the default header Google treats our request differently,"
   ]
  },
  {
   "cell_type": "code",
   "execution_count": null,
   "id": "233a7a98",
   "metadata": {},
   "outputs": [],
   "source": [
    "# Google treats non-browser user-agents differently.\n",
    "parameters = {\n",
    "    \"q\": \"What is the weather today?\"\n",
    "}\n",
    "\n",
    "response = requests.get(\"https://www.google.co.uk/search\", params = parameters)\n",
    "print(response.url)"
   ]
  },
  {
   "cell_type": "markdown",
   "id": "257f01b5",
   "metadata": {},
   "source": [
    "(Add examples of the other HTTP request types such as POST and DELETE)"
   ]
  },
  {
   "cell_type": "markdown",
   "id": "cd5ff6ca",
   "metadata": {},
   "source": [
    "### 6.1.2 Handling Requests"
   ]
  },
  {
   "cell_type": "markdown",
   "id": "5aec012b",
   "metadata": {},
   "source": [
    "Knowing the [HTTP status code](https://umbraco.com/knowledge-base/http-status-codes/) allows us to handle the response accordingly,"
   ]
  },
  {
   "cell_type": "code",
   "execution_count": null,
   "id": "accfc72d",
   "metadata": {},
   "outputs": [],
   "source": [
    "import requests\n",
    "\n",
    "response = requests.get(\"https://httpbin.org/status/404\")\n",
    "\n",
    "if response.status_code == 404:\n",
    "    print(\"HTTP Status: 404 - Not Found\")\n",
    "elif response.status_code == 200:\n",
    "    print(\"HTTP Status: 200 - OK\")\n",
    "elif response.status_code == 400:\n",
    "    print(\"HTTP Status: 400 - Bad Request\")\n",
    "else:\n",
    "    print(\"HTTP Status: {}\".format(response.status_code))"
   ]
  },
  {
   "cell_type": "markdown",
   "id": "f8ed414c",
   "metadata": {},
   "source": [
    "We can also handle latency/timeout issues by including a _timeout_ parameter in our request. In general, we can handle any error returned through the code below,"
   ]
  },
  {
   "cell_type": "code",
   "execution_count": 15,
   "id": "30990d27",
   "metadata": {},
   "outputs": [
    {
     "name": "stdout",
     "output_type": "stream",
     "text": [
      "HTTPSConnectionPool(host='httpbin.org', port=443): Read timed out. (read timeout=10)\n"
     ]
    }
   ],
   "source": [
    "import requests\n",
    "\n",
    "# If the response takes longer than 5 seconds to be received, the code will return a \"timeout\" error.\n",
    "try:\n",
    "    response = requests.get(\"https://httpbin.org/delay/25\", timeout = 10)\n",
    "\n",
    "    if response.status_code == 404:\n",
    "        print(\"HTTP Status: 404 - Not Found\")\n",
    "    elif response.status_code == 200:\n",
    "        print(\"HTTP Status: 200 - OK\")\n",
    "    elif response.status_code == 400:\n",
    "        print(\"HTTP Status: 400 - Bad Request\")\n",
    "    else:\n",
    "        print(\"HTTP Status: {}\".format(response.status_code))\n",
    "\n",
    "except Exception as err:\n",
    "    print(err)"
   ]
  },
  {
   "cell_type": "markdown",
   "id": "79e6763c",
   "metadata": {},
   "source": [
    "### 6.1.3 Using Proxies\n",
    "\n",
    "(Needs to be finished)"
   ]
  },
  {
   "cell_type": "code",
   "execution_count": 22,
   "id": "66362a5c",
   "metadata": {},
   "outputs": [
    {
     "name": "stdout",
     "output_type": "stream",
     "text": [
      "HTTPSConnectionPool(host='httpbin.org', port=443): Max retries exceeded with url: /get (Caused by ProxyError('Cannot connect to proxy.', NewConnectionError('<urllib3.connection.HTTPSConnection object at 0x00000131463B4C10>: Failed to establish a new connection: [Errno 11001] getaddrinfo failed')))\n"
     ]
    }
   ],
   "source": [
    "proxies = {\n",
    "    \"http\": \"139.99.237.62.80\",\n",
    "    \"https\": \"139.99.237.62.80\"\n",
    "}\n",
    "\n",
    "headers = {\"User-Agent\": \"Mozilla/5.0 (Windows NT 10.0; Win64; x64) AppleWebKit/537.36(KHTML, like Gecko) Chrome/111.0.0.0 Safari/537.36\"}\n",
    "\n",
    "try:\n",
    "    response = requests.get(\"https://httpbin.org/get\", headers = headers, proxies = proxies, timeout = 25)\n",
    "\n",
    "    if response.status_code == 404:\n",
    "        print(\"HTTP Status: 404 - Not Found\")\n",
    "    elif response.status_code == 200:\n",
    "        print(\"HTTP Status: 200 - OK\")\n",
    "    elif response.status_code == 400:\n",
    "        print(\"HTTP Status: 400 - Bad Request\")\n",
    "    else:\n",
    "        print(\"HTTP Status: {}\".format(response.status_code))\n",
    "        \n",
    "    print(response.text)\n",
    "\n",
    "except Exception as err:\n",
    "    print(err)"
   ]
  },
  {
   "cell_type": "code",
   "execution_count": null,
   "id": "ef271aa8",
   "metadata": {},
   "outputs": [],
   "source": []
  }
 ],
 "metadata": {
  "kernelspec": {
   "display_name": "Python 3 (ipykernel)",
   "language": "python",
   "name": "python3"
  },
  "language_info": {
   "codemirror_mode": {
    "name": "ipython",
    "version": 3
   },
   "file_extension": ".py",
   "mimetype": "text/x-python",
   "name": "python",
   "nbconvert_exporter": "python",
   "pygments_lexer": "ipython3",
   "version": "3.10.1"
  }
 },
 "nbformat": 4,
 "nbformat_minor": 5
}
