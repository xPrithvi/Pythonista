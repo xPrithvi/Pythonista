{
 "cells": [
  {
   "cell_type": "markdown",
   "id": "ad047831",
   "metadata": {},
   "source": [
    "# 1.2 Inheritance"
   ]
  },
  {
   "cell_type": "markdown",
   "id": "1ee3e110",
   "metadata": {},
   "source": [
    "The general idea of inheritance is to have a more generalised class and then having more speicalised classes which inherit properties, but have additional functionality to suit their purposes."
   ]
  },
  {
   "cell_type": "code",
   "execution_count": 1,
   "id": "77db7395",
   "metadata": {},
   "outputs": [],
   "source": [
    "class Person:\n",
    "    \"\"\"This is the more general class.\"\"\"\n",
    "\n",
    "    def __init__(self, name, sex, age, height):\n",
    "        \"\"\"This function is called the constructor or intialiser and is\n",
    "        immediatly executed when an instance of the class is created.\"\"\"\n",
    "\n",
    "        # Object variables\n",
    "        self.name = name\n",
    "        self.sex = sex\n",
    "        self.age = age\n",
    "        self.height = height\n",
    "        \n",
    "    def __str__(self):\n",
    "        return \"Name: {}, Sex: {}, Age: {}, Height: {}\".format(self.name, self.sex, self.age, self.height)\n",
    "    \n",
    "    def __del__(self):\n",
    "        pass\n",
    "\n",
    "class Worker(Person):\n",
    "    \"\"\"This is a more specialised class which inherits the more general person class.\"\"\"\n",
    "\n",
    "    def __init__(self, name, sex, age, height, pay):\n",
    "        \"\"\"Constuctor method.\"\"\"\n",
    "        super(Worker, self).__init__(name, sex, age, height)\n",
    "        self.pay = pay"
   ]
  },
  {
   "cell_type": "markdown",
   "id": "bc83e8b5",
   "metadata": {},
   "source": [
    "For the _Worker_ class to inherit the _Person_ class, we must pass the *Person* class as a arugment for the *Worker* class. The method _super_ allows us to access functions from the inherited class and in this case we have called its constructor method. Notice that we need to update the _str_ method,"
   ]
  },
  {
   "cell_type": "code",
   "execution_count": 2,
   "id": "c5bdadb4",
   "metadata": {},
   "outputs": [
    {
     "name": "stdout",
     "output_type": "stream",
     "text": [
      "Name: Jeff, Sex: Male, Age: 34, Height: 186\n"
     ]
    }
   ],
   "source": [
    "jeff = Worker(\"Jeff\", \"Male\", 34, 186, 20)\n",
    "print(jeff)"
   ]
  },
  {
   "cell_type": "markdown",
   "id": "e0861930",
   "metadata": {},
   "source": [
    "We do this by performing a *method overide*,"
   ]
  },
  {
   "cell_type": "code",
   "execution_count": 8,
   "id": "6dac6831",
   "metadata": {},
   "outputs": [],
   "source": [
    "class Worker(Person):\n",
    "    \"\"\"This is a more specialised class which inherits the more general person class.\"\"\"\n",
    "\n",
    "    def __init__(self, name, sex, age, height, pay):\n",
    "        \"\"\"Constuctor method.\"\"\"\n",
    "        super(Worker, self).__init__(name, sex, age, height)\n",
    "        self.pay = pay\n",
    "        \n",
    "    def __str__(self):\n",
    "        string = super(Worker, self).__str__()\n",
    "        return string + \", Pay: {}\".format(self.pay)"
   ]
  },
  {
   "cell_type": "markdown",
   "id": "554d07ad",
   "metadata": {},
   "source": [
    "This time we have used _super_ to call the _str_ method from the inherited class."
   ]
  },
  {
   "cell_type": "code",
   "execution_count": 9,
   "id": "f2edf388",
   "metadata": {},
   "outputs": [
    {
     "name": "stdout",
     "output_type": "stream",
     "text": [
      "Name: Barry, Sex: Male, Age: 37, Height: 176, Pay: 15\n"
     ]
    }
   ],
   "source": [
    "barry = Worker(\"Barry\", \"Male\", 37, 176, 15)\n",
    "print(barry)"
   ]
  },
  {
   "cell_type": "markdown",
   "id": "7a654630",
   "metadata": {},
   "source": [
    "###  Operator Overloading"
   ]
  },
  {
   "cell_type": "markdown",
   "id": "1645c8b6",
   "metadata": {},
   "source": [
    "Python allows us to overwrite the addition + and subtraction - operations. Consider modelling vectors,"
   ]
  },
  {
   "cell_type": "code",
   "execution_count": null,
   "id": "4e844f6b",
   "metadata": {},
   "outputs": [],
   "source": []
  }
 ],
 "metadata": {
  "kernelspec": {
   "display_name": "Python 3 (ipykernel)",
   "language": "python",
   "name": "python3"
  },
  "language_info": {
   "codemirror_mode": {
    "name": "ipython",
    "version": 3
   },
   "file_extension": ".py",
   "mimetype": "text/x-python",
   "name": "python",
   "nbconvert_exporter": "python",
   "pygments_lexer": "ipython3",
   "version": "3.10.1"
  }
 },
 "nbformat": 4,
 "nbformat_minor": 5
}
