{
 "cells": [
  {
   "cell_type": "markdown",
   "id": "1e1256e0-2c7e-4762-8e9f-752b580f2c7e",
   "metadata": {},
   "source": [
    "# 6.1 Introduction to Logging"
   ]
  },
  {
   "cell_type": "markdown",
   "id": "953484ca-b26f-4efb-bb1a-8bc17243ecbb",
   "metadata": {},
   "source": [
    "We use the _Logging_ module in Python to log information about the program while it is running. This is especially import for debugging. The module logging is useful because all print statements are valued the same. That is, Python commmits the same amount of resources to each one regardless of how important it is. This may be problematic as the information we want to log may me more important compared to others. Getting started,"
   ]
  },
  {
   "cell_type": "code",
   "execution_count": null,
   "id": "bc01c001-293e-41e4-82ae-0fab17662045",
   "metadata": {},
   "outputs": [],
   "source": [
    "import logging\n",
    "\n",
    "# Creating logger object,\n",
    "logger = logging.getLogger(\"Logger\")\n",
    "\n",
    "# Logging an information message,\n",
    "logger.info(\" Information messages are used to convey information which is considered to be important.\")"
   ]
  },
  {
   "cell_type": "markdown",
   "id": "32e50cdf-773c-4488-919a-2997fd81df40",
   "metadata": {},
   "source": [
    "Notice that the info message is not visible to us. This is because of security levels. In Python we have five of these levels,\n",
    "\n",
    "1. Critical\n",
    "2. Error\n",
    "3. Warning\n",
    "4. Info\n",
    "5. Debug\n",
    "\n",
    "By default, Python operates at the warning level meaning that only messages from the warning level and upwards are printed."
   ]
  },
  {
   "cell_type": "code",
   "execution_count": null,
   "id": "1c75458a-9e77-4d6b-a0ce-3a8a1eb4c0d7",
   "metadata": {},
   "outputs": [],
   "source": [
    "logger.critical(\" Critical messages report errors that stop the entire program from running.\")\n",
    "logger.error(\" Error messages are used to convey unwanted behaviour that may potentially stop the program from running.\")\n",
    "logger.warning(\" Warning messages are used to warn the user of potentially unwanted behaviour.\")\n",
    "logger.info(\" Information messages are used to convey information which is considered to be important.\")\n",
    "logger.debug(\" Debug messages are relevent to debugging code, but are not essential.\")"
   ]
  },
  {
   "cell_type": "markdown",
   "id": "10639fe5-4070-4d50-b7d3-92082edf98bf",
   "metadata": {},
   "source": [
    "For developers, it is useful to switch to the DEBUGGING level. We can also switch to the CRITICAL, ERROR, WARNING and INFO level using _logging.CRITICAL_, _logging.ERROR_, etc."
   ]
  },
  {
   "cell_type": "code",
   "execution_count": null,
   "id": "6154da9f-c16f-459d-9144-9f6376cd8740",
   "metadata": {},
   "outputs": [],
   "source": [
    "# Switching to the debug level,\n",
    "logger.setLevel(logging.DEBUG)\n",
    "\n",
    "logger.critical(\" Critical messages report errors that stop the entire program from running.\")\n",
    "logger.error(\" Error messages are used to convey unwanted behaviour that may potentially stop the program from running.\")\n",
    "logger.warning(\" Warning messages are used to warn the user of potentially unwanted behaviour.\")\n",
    "logger.info(\" Information messages are used to convey information which is considered to be important.\")\n",
    "logger.debug(\" Debug messages are relevent to debugging code, but are not essential.\")"
   ]
  },
  {
   "cell_type": "markdown",
   "id": "6a450639-53ab-4bdd-80ef-e7c70328ed0b",
   "metadata": {},
   "source": [
    "However, the most useful aspect of logging is the creation of log files which can be read after the program execution. To write our logs to .log files, we must create a **handler** via _logging.FileHandler()_ and set its level. Note we want the handler and logger to be at the same level. We must also apply formatting to the handler using _logging.Formatter()_ and _setFormatter()_. The formatting method uses **printf string formatting* which can be read [here](https://docs.python.org/3/library/stdtypes.html#printf-style-string-formatting). The complete code is given below.\n"
   ]
  },
  {
   "cell_type": "code",
   "execution_count": null,
   "id": "b9ad714d-c97b-42c1-a4d3-4f6915747e50",
   "metadata": {},
   "outputs": [],
   "source": [
    "import logging\n",
    "\n",
    "# Creating logger object and setting is level,\n",
    "logger = logging.getLogger(\"Logger\")\n",
    "logger.setLevel(logging.DEBUG)\n",
    "\n",
    "# Creating the log file handler,\n",
    "handler = logging.FileHandler(\"programLog.log\")\n",
    "handler.setLevel(logging.DEBUG)\n",
    "\n",
    "# Setting up the format of the file logs,\n",
    "formatter = logging.Formatter(\"%(asctime)s %(levelname)s: %(message)s\")\n",
    "handler.setFormatter(formatter)\n",
    "\n",
    "# Adding the handler to the logger,\n",
    "logger.addHandler(handler)\n",
    "\n",
    "# Example logging,\n",
    "logger.critical(\" Critical messages report errors that stop the entire program from running.\")\n",
    "logger.error(\" Error messages are used to convey unwanted behaviour that may potentially stop the program from running.\")\n",
    "logger.warning(\" Warning messages are used to warn the user of potentially unwanted behaviour.\")\n",
    "logger.info(\" Information messages are used to convey information which is considered to be important.\")\n",
    "logger.debug(\" Debug messages are relevent to debugging code, but are not essential.\")"
   ]
  },
  {
   "cell_type": "markdown",
   "id": "efb9a042-5b0f-4324-a096-d619be6c46c7",
   "metadata": {},
   "source": [
    "Finally, we also want generate a new log files for different dates we have excuted the program. It is convention to name the log file as the date and we do this using the _datetime_ module. The full code is provided below where we simply have to call the _setupLogger_ function to create our logger object. In this case, our logger object is called 'LOGGER' and, for example, we use 'LOGGER.info(\"message\")' to log an infrormation message."
   ]
  },
  {
   "cell_type": "code",
   "execution_count": 2,
   "id": "8012e332-623f-4ae2-915b-b81bd6ac7c3e",
   "metadata": {},
   "outputs": [],
   "source": [
    "import logging\n",
    "import datetime\n",
    "\n",
    "def setupLogger(name, level):\n",
    "    \"\"\"Creates a global logger object 'LOGGER' and 'HANDLER' which act together to write logs to a .log file.\"\"\"\n",
    "\n",
    "    global LOGGER, HANDLER\n",
    "\n",
    "    # Create log file name,\n",
    "    log_file_name = str(datetime.date.today()) + \".log\"\n",
    "\n",
    "    # Creating logger and log file handler,\n",
    "    LOGGER = logging.getLogger(name)\n",
    "    HANDLER = logging.FileHandler(log_file_name)\n",
    "\n",
    "    # Setting up the format of the file logs,\n",
    "    formatter = logging.Formatter(\"%(asctime)s %(levelname)s: %(message)s\")\n",
    "    HANDLER.setFormatter(formatter)\n",
    "    LOGGER.addHandler(HANDLER)\n",
    "\n",
    "    # Setting the logging level\n",
    "    if level == \"DEBUG\":\n",
    "        HANDLER.setLevel(logging.DEBUG)\n",
    "        LOGGER.setLevel(logging.DEBUG)\n",
    "    elif level == \"INFO\":\n",
    "        HANDLER.setLevel(logging.INFO)\n",
    "        LOGGER.setLevel(logging.INFO)\n",
    "    elif level == \"WARNING\":\n",
    "        HANDLER.setLevel(logging.WARNING)\n",
    "        LOGGER.setLevel(logging.WARNING)\n",
    "    elif level == \"ERROR\":\n",
    "        HANDLER.setLevel(logging.ERROR)\n",
    "        LOGGER.setLevel(logging.ERROR)\n",
    "    elif level == \"CRITICAL\":\n",
    "        HANDLER.setLevel(logging.CRITICAL)\n",
    "        LOGGER.setLevel(logging.CRITICAL)\n",
    "    else:\n",
    "        HANDLER.setLevel(logging.WARNING)\n",
    "        LOGGER.setLevel(logging.WARNING) \n",
    "\n",
    "\n",
    "setupLogger(name = \"Logger\", level = \"INFO\")\n",
    "LOGGER.info(\"This is an INFO message.\")"
   ]
  }
 ],
 "metadata": {
  "kernelspec": {
   "display_name": "Python 3 (ipykernel)",
   "language": "python",
   "name": "python3"
  },
  "language_info": {
   "codemirror_mode": {
    "name": "ipython",
    "version": 3
   },
   "file_extension": ".py",
   "mimetype": "text/x-python",
   "name": "python",
   "nbconvert_exporter": "python",
   "pygments_lexer": "ipython3",
   "version": "3.12.5"
  }
 },
 "nbformat": 4,
 "nbformat_minor": 5
}
