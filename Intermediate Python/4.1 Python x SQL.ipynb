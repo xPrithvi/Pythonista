{
 "cells": [
  {
   "cell_type": "markdown",
   "id": "07ff2d40",
   "metadata": {},
   "source": [
    "# 4.1 Python x SQL"
   ]
  },
  {
   "cell_type": "markdown",
   "id": "f35d1623",
   "metadata": {},
   "source": [
    "SQL (Structured Query Language) is one of the most widely used programming language for working with databases. As part of the standard Python library, __sqlite3__ allows us to create, edit and read SQL databases."
   ]
  },
  {
   "cell_type": "markdown",
   "id": "276a4008",
   "metadata": {},
   "source": [
    "### 4.1.1 Creating or Connecting to a Database\n",
    "\n",
    "Creating or connecting to an existing database is simple,"
   ]
  },
  {
   "cell_type": "code",
   "execution_count": 1,
   "id": "c2e3f3cc",
   "metadata": {},
   "outputs": [],
   "source": [
    "import sqlite3\n",
    "\n",
    "# Creating or connecting to database,\n",
    "connection = sqlite3.connect(\"SQLdatabase.db\")"
   ]
  },
  {
   "cell_type": "markdown",
   "id": "f44bdc07",
   "metadata": {},
   "source": [
    "We use the **cursor** object to create tables,"
   ]
  },
  {
   "cell_type": "code",
   "execution_count": 2,
   "id": "0baca081",
   "metadata": {},
   "outputs": [],
   "source": [
    "# Creating the cursor object,\n",
    "cursor = connection.cursor()\n",
    "\n",
    "# We pass an SQL statement via the cursor.execute,\n",
    "cursor.execute(\"\"\"\n",
    "CREATE TABLE IF NOT EXISTS People(\n",
    "    FirstName TEXT,\n",
    "    LastName TEXT,\n",
    "    Sex TEXT,\n",
    "    Age INTEGER\n",
    ")\n",
    "\"\"\")\n",
    "\n",
    "# Note that we have to \"commit\" and close the connection when finished.\n",
    "connection.commit()\n",
    "connection.close()"
   ]
  },
  {
   "cell_type": "markdown",
   "id": "491a15d7",
   "metadata": {},
   "source": [
    "A crashcourse on SQL can be found here. **Writing to the database**,"
   ]
  },
  {
   "cell_type": "code",
   "execution_count": 3,
   "id": "f8eb3a95",
   "metadata": {},
   "outputs": [],
   "source": [
    "connection = sqlite3.connect(\"SQLdatabase.db\")\n",
    "cursor = connection.cursor()\n",
    "\n",
    "cursor.execute(\"\"\"\n",
    "INSERT INTO People VALUES\n",
    "(\"Anna\", \"White\", \"Famale\", 27),\n",
    "(\"Barry\", \"Forest\", \"Male\", 54),\n",
    "(\"Christopher\", \"Demont\", \"Male\", 32)\n",
    "\"\"\")\n",
    "\n",
    "connection.commit()\n",
    "connection.close()"
   ]
  }
 ],
 "metadata": {
  "kernelspec": {
   "display_name": "Python 3 (ipykernel)",
   "language": "python",
   "name": "python3"
  },
  "language_info": {
   "codemirror_mode": {
    "name": "ipython",
    "version": 3
   },
   "file_extension": ".py",
   "mimetype": "text/x-python",
   "name": "python",
   "nbconvert_exporter": "python",
   "pygments_lexer": "ipython3",
   "version": "3.10.1"
  }
 },
 "nbformat": 4,
 "nbformat_minor": 5
}
