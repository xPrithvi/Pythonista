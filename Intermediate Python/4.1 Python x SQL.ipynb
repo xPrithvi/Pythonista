{
 "cells": [
  {
   "cell_type": "markdown",
   "id": "07ff2d40",
   "metadata": {},
   "source": [
    "# 4.1 SQL x Python - An Introduction"
   ]
  },
  {
   "cell_type": "markdown",
   "id": "f35d1623",
   "metadata": {},
   "source": [
    "SQL (Structured Query Language) is one of the most widely used programming language for working with databases. As part of the standard Python library, __sqlite3__ allows us to create, edit and read SQL databases."
   ]
  },
  {
   "cell_type": "markdown",
   "id": "276a4008",
   "metadata": {},
   "source": [
    "### 4.1.1 Creating or Connecting to a Database\n",
    "\n",
    "Creating or connecting to an existing database is simple,"
   ]
  },
  {
   "cell_type": "code",
   "execution_count": null,
   "id": "c2e3f3cc",
   "metadata": {},
   "outputs": [],
   "source": [
    "import sqlite3\n",
    "\n",
    "# Creating or connecting to database,\n",
    "connection = sqlite3.connect(\"SQLdatabase.db\")"
   ]
  },
  {
   "cell_type": "markdown",
   "id": "f44bdc07",
   "metadata": {},
   "source": [
    "We use the **cursor** object to create tables,"
   ]
  },
  {
   "cell_type": "code",
   "execution_count": null,
   "id": "0baca081",
   "metadata": {},
   "outputs": [],
   "source": [
    "# Creating the cursor object,\n",
    "cursor = connection.cursor()\n",
    "\n",
    "# We pass an SQL statement via the cursor.execute,\n",
    "cursor.execute(\"\"\"\n",
    "CREATE TABLE IF NOT EXISTS People(\n",
    "    FirstName TEXT,\n",
    "    LastName TEXT,\n",
    "    Sex TEXT,\n",
    "    Age INTEGER,\n",
    "    ID TEXT\n",
    ")\n",
    "\"\"\")\n",
    "\n",
    "# Note that we have to \"commit\" and then close the connection when finished.\n",
    "connection.commit()\n",
    "connection.close()"
   ]
  },
  {
   "cell_type": "markdown",
   "id": "491a15d7",
   "metadata": {},
   "source": [
    "A crashcourse on SQL can be found here. \n",
    "\n",
    "### 4.1.2 Writing and Reading To Databases\n",
    "\n",
    "Writing to the database is simple. Once, again we simply pass the required SQL statement to the _cursor.execute_ method."
   ]
  },
  {
   "cell_type": "code",
   "execution_count": null,
   "id": "f8eb3a95",
   "metadata": {},
   "outputs": [],
   "source": [
    "connection = sqlite3.connect(\"SQLdatabase.db\")\n",
    "cursor = connection.cursor()\n",
    "\n",
    "# Inserting the following data,\n",
    "cursor.execute(\"\"\"\n",
    "INSERT INTO People VALUES\n",
    "(\"Anna\", \"White\", \"Famale\", 27, \"7Ka22OwWUI\"),\n",
    "(\"Barry\", \"Forest\", \"Male\", 54, \"45ksDS22Og\"),\n",
    "(\"Christopher\", \"Demont\", \"Male\", 32, \"53f4DS2ABg\")\n",
    "\"\"\")\n",
    "\n",
    "connection.commit()\n",
    "connection.close()"
   ]
  },
  {
   "cell_type": "markdown",
   "id": "07101f96",
   "metadata": {},
   "source": [
    "Reading the data from the database is slightly more complicated. First, we must pass SQL for the cursor to highlight the selected rows. Then we must use the _.fetchall_ method to store the highlighted rows into a variable. Note that we can also pass conditions regarding which row are to be highlighted by including _WHERE_ in the SQL statement."
   ]
  },
  {
   "cell_type": "code",
   "execution_count": null,
   "id": "b0c7bbf0",
   "metadata": {},
   "outputs": [],
   "source": [
    "connection = sqlite3.connect(\"SQLdatabase.db\")\n",
    "cursor = connection.cursor()\n",
    "\n",
    "# Selecting all rows from the table \"People\",\n",
    "cursor.execute(\"\"\"\n",
    "SELECT * FROM People\n",
    "\"\"\")\n",
    "\n",
    "# Storing and printing the row \"highlighted\" by the cursor,\n",
    "rows = cursor.fetchall()\n",
    "print(f\"All people: {rows}\")\n",
    "\n",
    "# Selecting rows which have an age parameter that is over the value of 35,\n",
    "cursor.execute(\"\"\"\n",
    "SELECT * FROM People\n",
    "WHERE Age > 35\n",
    "\"\"\")\n",
    "\n",
    "rows = cursor.fetchall()\n",
    "print(f\"People over the age of 35: {rows}\")\n",
    "\n",
    "connection.commit()\n",
    "connection.close()"
   ]
  },
  {
   "cell_type": "markdown",
   "id": "37de4ed4",
   "metadata": {},
   "source": [
    "### 4.1.3 Wrapping SQL in Python"
   ]
  },
  {
   "cell_type": "markdown",
   "id": "b5a36710",
   "metadata": {},
   "source": [
    "But what is the point of this? We are just simply just supplying SQL statements through Python rather than just directly. The point is that we can wrap certain SQL statemtents into Python objects. This allows us to expand the functionality of the database. Let us consider the _Person_ class below,"
   ]
  },
  {
   "cell_type": "code",
   "execution_count": 42,
   "id": "b59e57e8",
   "metadata": {},
   "outputs": [],
   "source": [
    "import sqlite3\n",
    "\n",
    "class Person():\n",
    "\n",
    "    def __init__(self, FirstName = \"FirstName\", LastName = \"LastName\", Sex = \"Other\", Age = 0, ID = \"Default\"):\n",
    "        \"\"\"The constructor method.\"\"\"\n",
    "\n",
    "        # Class variables\n",
    "        self.FirstName = FirstName\n",
    "        self.LastName = LastName\n",
    "        self.Sex = Sex\n",
    "        self.Age = Age\n",
    "        self.ID = ID\n",
    "\n",
    "        # Creating a connection and cursor object,\n",
    "        self.connection = sqlite3.connect(\"SQLdatabase.db\")\n",
    "        self.cursor = self.connection.cursor()\n",
    "\n",
    "        # Creating table \"People\" if it does not exist,\n",
    "        sql_statement = \"\"\"CREATE TABLE IF NOT EXISTS People(\n",
    "\n",
    "        FirstName TEXT,\n",
    "        LastName TEXT,\n",
    "        Sex TEXT,\n",
    "        Age INTEGER,\n",
    "        ID TEXT\n",
    "\n",
    "        )\"\"\"\n",
    "\n",
    "        self.cursor.execute(sql_statement)\n",
    "        self.connection.commit()\n",
    "\n",
    "    def create(self):\n",
    "        \"\"\"Creates an entry for the person in the table \"People\" in the database.\"\"\"\n",
    "        \n",
    "        sql_statement = \"\"\"INSERT INTO people VALUES\n",
    "        (\"{}\", \"{}\", \"{}\", {}, \"{}\")\"\"\".format(self.FirstName, self.LastName, self.Sex, self.Age, self.ID)\n",
    "\n",
    "        self.cursor.execute(sql_statement)\n",
    "        self.connection.commit()\n",
    "\n",
    "    def load(self, ID):\n",
    "        \"\"\"Loads an entry for \"\"\"\n",
    "        \n",
    "        sql_statement = \"\"\"SELECT * FROM People\n",
    "        WHERE ID = '{}' \"\"\".format(self.ID)\n",
    "\n",
    "        result = self.cursor.fetchone()\n",
    "        self.FirstName = result[0]\n",
    "        self.LastName = result[1]\n",
    "        self.Sex = result[2]\n",
    "        self.Age = result[3]\n",
    "        self.ID = result[4]\n",
    "\n",
    "    def to_dict(self):\n",
    "        return {\"First Name\": self.FirstName, \"Last Name\": self.LastName, \"Sex\": self.Sex, \"Age\": self.Age, \"ID\": self.ID}\n",
    "\n",
    "    @staticmethod\n",
    "    def all_people():\n",
    "\n",
    "        try:\n",
    "            connection = sqlite3.connect(\"SQLdatabase.db\")\n",
    "            cursor = connection.cursor()\n",
    "\n",
    "            # Selecting all rows from the table \"People\",\n",
    "            cursor.execute(\"\"\"\n",
    "            SELECT * FROM People\n",
    "            \"\"\")\n",
    "\n",
    "            # Storing and printing the row \"highlighted\" by the cursor,\n",
    "            rows = cursor.fetchall()\n",
    "\n",
    "            connection.commit()\n",
    "            connection.close()\n",
    "            \n",
    "            return rows\n",
    "\n",
    "        except Exception as error:\n",
    "            return error\n",
    "\n",
    "    def __repr__(self):\n",
    "        return str(self.to_dict())\n",
    "    \n",
    "    def __del__(self):\n",
    "        self.connection.close()"
   ]
  }
 ],
 "metadata": {
  "kernelspec": {
   "display_name": "Python 3 (ipykernel)",
   "language": "python",
   "name": "python3"
  },
  "language_info": {
   "codemirror_mode": {
    "name": "ipython",
    "version": 3
   },
   "file_extension": ".py",
   "mimetype": "text/x-python",
   "name": "python",
   "nbconvert_exporter": "python",
   "pygments_lexer": "ipython3",
   "version": "3.10.1"
  }
 },
 "nbformat": 4,
 "nbformat_minor": 5
}
