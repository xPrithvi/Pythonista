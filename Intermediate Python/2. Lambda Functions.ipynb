{
 "cells": [
  {
   "cell_type": "markdown",
   "id": "453635d0-9d17-4a36-a456-84b340c152c1",
   "metadata": {},
   "source": [
    "# 2. Lambda Functions"
   ]
  },
  {
   "cell_type": "markdown",
   "id": "65591f8f-7e80-4ce3-8115-db583dc345ed",
   "metadata": {},
   "source": [
    "Lambda function are anonymous functions in that they are not defined via _def_ like regular functions. For this reason, they are useful in many scenarios. Consider the basic function below,"
   ]
  },
  {
   "cell_type": "code",
   "execution_count": 1,
   "id": "8a1ecc81-46ae-46a2-9e67-6424ba2be3f7",
   "metadata": {},
   "outputs": [
    {
     "name": "stdout",
     "output_type": "stream",
     "text": [
      "40\n"
     ]
    }
   ],
   "source": [
    "def polynomial(x):\n",
    "    \"\"\"A regular Python function.\"\"\"\n",
    "    return x**2 + 2*x + 5\n",
    "\n",
    "print(polynomial(5))"
   ]
  },
  {
   "cell_type": "markdown",
   "id": "7d74a7ea-8c23-49fa-905b-f962e10b84ed",
   "metadata": {},
   "source": [
    "We can write this in a single line as a lambda function,"
   ]
  },
  {
   "cell_type": "code",
   "execution_count": 3,
   "id": "de43f41b-c826-4724-b338-33d9287a4cd5",
   "metadata": {},
   "outputs": [
    {
     "name": "stdout",
     "output_type": "stream",
     "text": [
      "40\n"
     ]
    }
   ],
   "source": [
    "polynomial_lambda = lambda x: x**2 + 2*x + 5\n",
    "print(polynomial_lambda(5))"
   ]
  },
  {
   "cell_type": "markdown",
   "id": "7dc17fa0-b8b0-4fde-9fdd-21481cfaea7b",
   "metadata": {},
   "source": [
    "A Lambda function can have an unlimited number of parameters,"
   ]
  },
  {
   "cell_type": "code",
   "execution_count": 6,
   "id": "bb488e26-b9e0-4d35-b6d5-647dddae768c",
   "metadata": {},
   "outputs": [
    {
     "name": "stdout",
     "output_type": "stream",
     "text": [
      "62\n"
     ]
    }
   ],
   "source": [
    "function_lambda = lambda x,y,z: x**2*y + 2*z**3 + x*y*z\n",
    "print(function_lambda(5, 2, 1))"
   ]
  },
  {
   "cell_type": "markdown",
   "id": "2ac28d37-b357-487e-b446-61cb376f193c",
   "metadata": {},
   "source": [
    "The true power of lambda functions is that we don't have to assign them to a variable. That is, we can use them as **single line expressions**. In its most basic usage,"
   ]
  },
  {
   "cell_type": "code",
   "execution_count": 7,
   "id": "b8ec40c9-a295-4769-9448-758ccda4fdd2",
   "metadata": {},
   "outputs": [
    {
     "data": {
      "text/plain": [
       "1320"
      ]
     },
     "execution_count": 7,
     "metadata": {},
     "output_type": "execute_result"
    }
   ],
   "source": [
    "(lambda x,y,z: x**3*y + z**2*x*2 + x*y*z)(5, 3, 9)"
   ]
  },
  {
   "cell_type": "markdown",
   "id": "f6cb2df6-045f-4e4a-8073-f0f76ec0094a",
   "metadata": {},
   "source": [
    "However, their usefulness is shown with **higher-order functions** which are functions that take other functions as arguments. A classical example, is to use the lambda function with the _map()_ function."
   ]
  },
  {
   "cell_type": "code",
   "execution_count": 13,
   "id": "0c995be4-8b92-4d54-849e-c765acc47e2d",
   "metadata": {},
   "outputs": [
    {
     "name": "stdout",
     "output_type": "stream",
     "text": [
      "[1, 4, 9, 16, 25, 36, 49, 64, 81, 100]\n"
     ]
    }
   ],
   "source": [
    "# list() coverts the map object into a list.\n",
    "number_list = [1, 2, 3, 4, 5, 6, 7, 8, 9, 10]\n",
    "squared_list = list(map(lambda x: x**2, number_list))\n",
    "print(squared_list)"
   ]
  },
  {
   "cell_type": "markdown",
   "id": "4dbf7c61-4c5a-4f30-8463-2368eb42d1e0",
   "metadata": {},
   "source": [
    "Another example of a useful lambda function,"
   ]
  },
  {
   "cell_type": "code",
   "execution_count": 18,
   "id": "05e716d1-7c20-4ad1-b0a2-fd23d9455781",
   "metadata": {},
   "outputs": [
    {
     "data": {
      "text/plain": [
       "'Prithvi Ramrucha'"
      ]
     },
     "execution_count": 18,
     "metadata": {},
     "output_type": "execute_result"
    }
   ],
   "source": [
    "fullname = lambda firstname, lastname: firstname.strip().title() + \" \" + lastname.strip().title()\n",
    "fullname(\"prithvi\", \"RAMRUCHA\")"
   ]
  },
  {
   "cell_type": "markdown",
   "id": "2c97c367-a49f-4258-86df-6e2703ac4d54",
   "metadata": {},
   "source": [
    "We can also return lambda functions. Consider the example below,"
   ]
  },
  {
   "cell_type": "code",
   "execution_count": 20,
   "id": "2e454acb-dc89-4199-9986-034f5ee8bf86",
   "metadata": {},
   "outputs": [
    {
     "data": {
      "text/plain": [
       "6"
      ]
     },
     "execution_count": 20,
     "metadata": {},
     "output_type": "execute_result"
    }
   ],
   "source": [
    "def quadraticFunction(a, b, c):\n",
    "    \"\"\"This function constructs a quadratic equation using the coefficient's supplied.\"\"\"\n",
    "    return lambda x: a*x**2 + b*x + c\n",
    "\n",
    "quadratic_func = quadraticFunction(1, 2, 6)\n",
    "quadratic_func(0)"
   ]
  },
  {
   "cell_type": "markdown",
   "id": "9f0046c0-1fee-4a5e-bfbc-d760a0fa5932",
   "metadata": {},
   "source": [
    "## References"
   ]
  },
  {
   "cell_type": "markdown",
   "id": "6c80b3bf-067b-48ce-b1c9-17460c57858e",
   "metadata": {},
   "source": [
    "[1]. https://www.youtube.com/watch?v=BcbVe1r2CYc\n",
    "\n",
    "[2]. https://www.youtube.com/watch?v=KR22jigJLok\n",
    "\n",
    "[3]. https://www.youtube.com/watch?v=25ovCm9jKfA"
   ]
  },
  {
   "cell_type": "code",
   "execution_count": null,
   "id": "8a9e0fc8-1df3-42dc-a979-6663e84996c2",
   "metadata": {},
   "outputs": [],
   "source": []
  }
 ],
 "metadata": {
  "kernelspec": {
   "display_name": "Python 3 (ipykernel)",
   "language": "python",
   "name": "python3"
  },
  "language_info": {
   "codemirror_mode": {
    "name": "ipython",
    "version": 3
   },
   "file_extension": ".py",
   "mimetype": "text/x-python",
   "name": "python",
   "nbconvert_exporter": "python",
   "pygments_lexer": "ipython3",
   "version": "3.12.5"
  }
 },
 "nbformat": 4,
 "nbformat_minor": 5
}
