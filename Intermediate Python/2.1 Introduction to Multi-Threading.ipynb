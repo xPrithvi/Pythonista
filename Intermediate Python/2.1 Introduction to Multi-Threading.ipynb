{
 "cells": [
  {
   "cell_type": "markdown",
   "id": "fc402952",
   "metadata": {},
   "source": [
    "# 2.1 Introduction to Multi-Threading"
   ]
  },
  {
   "cell_type": "markdown",
   "id": "bb29cd3c",
   "metadata": {},
   "source": [
    "Threading allows Python to excute lines of code in parallel. Threads are light weight processes which mean that they require less resources than the main process of the code. Excuting code in parallel allows our program to be more efficient and decrease running times. In python, we must import the *threading* module,"
   ]
  },
  {
   "cell_type": "code",
   "execution_count": 1,
   "id": "04557915",
   "metadata": {},
   "outputs": [],
   "source": [
    "import threading"
   ]
  },
  {
   "cell_type": "markdown",
   "id": "a29ec1ba",
   "metadata": {},
   "source": [
    "Threads in python require a function which contains the code we want the thread to excute in parallel with the main thread."
   ]
  },
  {
   "cell_type": "code",
   "execution_count": 4,
   "id": "0ccd2f32",
   "metadata": {},
   "outputs": [
    {
     "name": "stdout",
     "output_type": "stream",
     "text": [
      "Hello world!\n"
     ]
    }
   ],
   "source": [
    "def function():\n",
    "    \"\"\"Every thread requires a function to execute.\"\"\"\n",
    "    print(\"Hello world!\")\n",
    "\n",
    "# Creating a thread,\n",
    "thread_obj = threading.Thread(target = function)\n",
    "\n",
    "# Starting the thread,\n",
    "thread_obj.start()"
   ]
  },
  {
   "cell_type": "markdown",
   "id": "6edcedaf",
   "metadata": {},
   "source": [
    "Let us run multiple threads simultaneously. Note that once a thread is started, the main thread (execution flow) will not wait for the thread to terminate before executing the next lines of code. "
   ]
  },
  {
   "cell_type": "code",
   "execution_count": 6,
   "id": "8c1d212d",
   "metadata": {},
   "outputs": [
    {
     "name": "stdout",
     "output_type": "stream",
     "text": [
      "[Main Thread]\n",
      "[Main Thread]: Started threads.\n",
      "[Thread 1]: Finished.\n",
      "[Thread 1]: Finished.\n",
      "[Thread 2]: Finished.\n",
      "[Thread 2]: Finished.\n"
     ]
    }
   ],
   "source": [
    "import time\n",
    "\n",
    "def function1():\n",
    "    for i in range(2):\n",
    "        time.sleep(1)\n",
    "        print(\"[Thread 1]: Finished.\")\n",
    "        \n",
    "def function2():\n",
    "    for i in range(2):\n",
    "        time.sleep(2.5)\n",
    "        print(\"[Thread 2]: Finished.\")\n",
    "\n",
    "print(\"[Main Thread]\")\n",
    "thread1_obj = threading.Thread(target = function1)\n",
    "thread2_obj = threading.Thread(target = function2)\n",
    "thread1_obj.start()\n",
    "thread2_obj.start()\n",
    "\n",
    "\"\"\"Code below this line will be executed immediately after the threads have been started.\"\"\"\n",
    "print(\"[Main Thread]: Started threads.\")"
   ]
  },
  {
   "cell_type": "markdown",
   "id": "15393626",
   "metadata": {},
   "source": [
    "We use *.join()* to halt the main thread when another thread is started until it has terminated,"
   ]
  },
  {
   "cell_type": "code",
   "execution_count": 4,
   "id": "8db56ab9",
   "metadata": {},
   "outputs": [
    {
     "name": "stdout",
     "output_type": "stream",
     "text": [
      "[Main Thread]\n",
      "[Thread 1]\n",
      "[Thread 1]\n",
      "[Main Thread]: Thread 1 terminated.\n"
     ]
    }
   ],
   "source": [
    "import time\n",
    "\n",
    "def function():\n",
    "    for i in range(2):\n",
    "        time.sleep(1)\n",
    "        print(\"[Thread 1]\")\n",
    "\n",
    "print(\"[Main Thread]\")\n",
    "thread_obj = threading.Thread(target = function)\n",
    "thread_obj.start()\n",
    "thread_obj.join()\n",
    "\n",
    "\"\"\"Code below this line will be executed immediately after the thread has terminated\"\"\"\n",
    "print(\"[Main Thread]: Thread 1 terminated.\")"
   ]
  },
  {
   "cell_type": "markdown",
   "id": "ee6561fe",
   "metadata": {},
   "source": [
    "Sometimes threads may want to access the same resources, say for example, a data structure. While a thread is accessing the resource, we may want to prevent other threads from also accessing it. To do this, we use **locking**, "
   ]
  },
  {
   "cell_type": "code",
   "execution_count": 14,
   "id": "e7b1d9ac",
   "metadata": {},
   "outputs": [
    {
     "name": "stdout",
     "output_type": "stream",
     "text": [
      "[Thread 1]: Jack\n",
      "[Thread 2]: Emily\n"
     ]
    }
   ],
   "source": [
    "import threading\n",
    "import time\n",
    "\n",
    "data_structure = [{\"Name\": \"John\", \"Age\": 47, \"Sex\": \"Male\"},\n",
    "                  {\"Name\": \"Jack\", \"Age\": 27, \"Sex\": \"Male\"},\n",
    "                  {\"Name\": \"Emily\", \"Age\": 28, \"Sex\": \"Female\"}]\n",
    "\n",
    "\"\"\"We must creating the lock object.\"\"\"\n",
    "lock = threading.Lock()\n",
    "\n",
    "def function1():\n",
    "    global data_structure\n",
    "\n",
    "    lock.acquire()\n",
    "    print(\"[Thread 1]: {}\".format(data_structure[1][\"Name\"]))\n",
    "    time.sleep(2)\n",
    "    lock.release()\n",
    "    \n",
    "    \"\"\"The lock must be acquired and then released when no longer needed.\"\"\"\n",
    "\n",
    "def function2():\n",
    "    global data_structure\n",
    "\n",
    "    lock.acquire()\n",
    "    print(\"[Thread 2]: {}\".format(data_structure[2][\"Name\"]))\n",
    "    time.sleep(2)\n",
    "    lock.release()\n",
    "\n",
    "thread1_object = threading.Thread(target = function1)\n",
    "thread2_object = threading.Thread(target = function2)\n",
    "thread1_object.start()\n",
    "thread2_object.start()"
   ]
  },
  {
   "cell_type": "markdown",
   "id": "d5842d42",
   "metadata": {},
   "source": [
    "Notice that the second thread cannot access the data structure until the first thread has terminated and thereby released the lock on it. We see this from the two second delay between \"[Thread 1]: Jack\" and \"[Thread 2]: Emily\"."
   ]
  }
 ],
 "metadata": {
  "kernelspec": {
   "display_name": "Python 3 (ipykernel)",
   "language": "python",
   "name": "python3"
  },
  "language_info": {
   "codemirror_mode": {
    "name": "ipython",
    "version": 3
   },
   "file_extension": ".py",
   "mimetype": "text/x-python",
   "name": "python",
   "nbconvert_exporter": "python",
   "pygments_lexer": "ipython3",
   "version": "3.10.1"
  }
 },
 "nbformat": 4,
 "nbformat_minor": 5
}
