{
 "cells": [
  {
   "cell_type": "markdown",
   "id": "945051ab",
   "metadata": {},
   "source": [
    "# 3.1 Queues"
   ]
  },
  {
   "cell_type": "code",
   "execution_count": 7,
   "id": "aa6513c7",
   "metadata": {},
   "outputs": [
    {
     "name": "stdout",
     "output_type": "stream",
     "text": [
      "[Thread 1]: Started.\n",
      "[Thread 1]: Finished.\n",
      "[Thread 2]: Started.\n",
      "[Thread 2]: Finished.\n",
      "[Thread 3]: Started.\n",
      "[Thread 3]: Finished.\n",
      "Hi!\n"
     ]
    }
   ],
   "source": [
    "import threading\n",
    "import time\n",
    "import random\n",
    "\n",
    "def function(thread_num):\n",
    "    \"\"\"Thread target function.\"\"\"\n",
    "    print(\"[Thread {}]: Started.\".format(thread_num))\n",
    "    time.sleep(random.randint(1, 10))\n",
    "    print(\"[Thread {}]: Finished.\".format(thread_num))\n",
    "\n",
    "thread_obj1 = threading.Thread(target = function(1))\n",
    "thread_obj2 = threading.Thread(target = function(2))\n",
    "thread_obj3 = threading.Thread(target = function(3))\n",
    "thread_obj1.start()\n",
    "print(\"Hi!\")\n",
    "thread_obj2.start()\n",
    "thread_obj3.start()"
   ]
  },
  {
   "cell_type": "code",
   "execution_count": null,
   "id": "58386fd2",
   "metadata": {},
   "outputs": [],
   "source": []
  }
 ],
 "metadata": {
  "kernelspec": {
   "display_name": "Python 3 (ipykernel)",
   "language": "python",
   "name": "python3"
  },
  "language_info": {
   "codemirror_mode": {
    "name": "ipython",
    "version": 3
   },
   "file_extension": ".py",
   "mimetype": "text/x-python",
   "name": "python",
   "nbconvert_exporter": "python",
   "pygments_lexer": "ipython3",
   "version": "3.10.1"
  }
 },
 "nbformat": 4,
 "nbformat_minor": 5
}
