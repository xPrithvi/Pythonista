{
 "cells": [
  {
   "cell_type": "markdown",
   "id": "16b2633d",
   "metadata": {},
   "source": [
    "# 1.4 Decorators"
   ]
  },
  {
   "cell_type": "markdown",
   "id": "3078be1c",
   "metadata": {},
   "source": [
    "A **decorator** is used add additional functionality to a method without editing its code. A non-pythonic implementation would be the following,"
   ]
  },
  {
   "cell_type": "code",
   "execution_count": 4,
   "id": "ff570975",
   "metadata": {},
   "outputs": [
    {
     "name": "stdout",
     "output_type": "stream",
     "text": [
      "Task X, Y and Z completed\n",
      "Task A and B completed\n"
     ]
    }
   ],
   "source": [
    "def someFunction():\n",
    "    \"\"\"This function performs task X, Y and Z.\"\"\"\n",
    "    print(\"Task X, Y and Z completed\")\n",
    "\n",
    "def Decorator(function):\n",
    "    \"\"\"Adds additonal functionality to a function with changing it.\"\"\"\n",
    "\n",
    "    function()\n",
    "\n",
    "    # Additional code,\n",
    "    print(\"Task A and B completed\")\n",
    "\n",
    "# Decorating the function,\n",
    "Decorator(someFunction)"
   ]
  },
  {
   "cell_type": "markdown",
   "id": "66278daf",
   "metadata": {},
   "source": [
    "However the pythonic way to do this is as follows,"
   ]
  },
  {
   "cell_type": "code",
   "execution_count": 13,
   "id": "d7717e01",
   "metadata": {},
   "outputs": [],
   "source": [
    "def Decorator(function):\n",
    "    \"\"\"Adds additonal functionality to a function with changing it.\"\"\"\n",
    "\n",
    "    def wrapper(*args, **kwargs):\n",
    "        \"\"\"We require a wrapper function.\"\"\"\n",
    "        function()\n",
    "\n",
    "        # Additional code,\n",
    "        print(\"Task A and B completed\")\n",
    "    \n",
    "    return wrapper\n",
    "\n",
    "@Decorator\n",
    "def someFunction():\n",
    "    \"\"\"This function performs task X, Y and Z.\"\"\"\n",
    "    print(\"Task X, Y and Z completed\")"
   ]
  },
  {
   "cell_type": "markdown",
   "id": "73337e58",
   "metadata": {},
   "source": [
    "Hihi"
   ]
  },
  {
   "cell_type": "code",
   "execution_count": 14,
   "id": "9e25eb6f",
   "metadata": {},
   "outputs": [
    {
     "name": "stdout",
     "output_type": "stream",
     "text": [
      "Task X, Y and Z completed\n",
      "Task A and B completed\n"
     ]
    }
   ],
   "source": [
    "someFunction()"
   ]
  }
 ],
 "metadata": {
  "kernelspec": {
   "display_name": "Python 3 (ipykernel)",
   "language": "python",
   "name": "python3"
  },
  "language_info": {
   "codemirror_mode": {
    "name": "ipython",
    "version": 3
   },
   "file_extension": ".py",
   "mimetype": "text/x-python",
   "name": "python",
   "nbconvert_exporter": "python",
   "pygments_lexer": "ipython3",
   "version": "3.10.1"
  }
 },
 "nbformat": 4,
 "nbformat_minor": 5
}
