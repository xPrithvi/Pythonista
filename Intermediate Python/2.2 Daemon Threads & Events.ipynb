{
 "cells": [
  {
   "cell_type": "markdown",
   "id": "6ae28305",
   "metadata": {},
   "source": [
    "# 2.2 Daemon Threads & Events"
   ]
  },
  {
   "cell_type": "markdown",
   "id": "241f1db2",
   "metadata": {},
   "source": [
    "**Daemon threads** are not vital to the program and terminate along with the main thread. This is different to regular threads which must terminate before the main thread for a program to finish its execution. These types of threads are used for low priority tasks that run in the background of a program."
   ]
  },
  {
   "cell_type": "code",
   "execution_count": 1,
   "id": "e1773edb",
   "metadata": {},
   "outputs": [
    {
     "name": "stdout",
     "output_type": "stream",
     "text": [
      "Lorem ipsum dolor sit amet, consectetur adipiscing elit. Fusce metus augue, lacinia eget risus posuere, rhoncus volutpat nisi. Nulla eu semper quam.\n"
     ]
    }
   ],
   "source": [
    "import threading\n",
    "import time\n",
    "\n",
    "def readFile():\n",
    "    \"\"\"The function of our daemon thread that continously reads the contents of a file.\"\"\"\n",
    "\n",
    "    while True:\n",
    "        with open(\"file.txt\", \"r\") as text_file:\n",
    "            text = text_file.read()\n",
    "            print(text)\n",
    "            time.sleep(5)\n",
    "\n",
    "# Creating a daemon thread,\n",
    "daemon_thread = threading.Thread(target = readFile, daemon = True)\n",
    "daemon_thread.start()"
   ]
  },
  {
   "cell_type": "markdown",
   "id": "3bba5387",
   "metadata": {},
   "source": [
    "Notice that we can close the program (export this notebook as a .py file and execute it) without terminating the thread. There isn't much more to daemon threads, they are the same to regular thread in all other aspects. **Events** are objects which can pause the execution flow of a thread until a choosen condition has been met. Basic usage, "
   ]
  },
  {
   "cell_type": "code",
   "execution_count": 4,
   "id": "3ebb9bb5",
   "metadata": {},
   "outputs": [
    {
     "name": "stdout",
     "output_type": "stream",
     "text": [
      "[Thread]: Waiting for event...\n",
      "Press any button to trigger the event. \n",
      "\n",
      "[Thread]: Event was triggered.\n"
     ]
    }
   ],
   "source": [
    "import threading\n",
    "\n",
    "# Creating the event object,\n",
    "EVENT = threading.Event()\n",
    "\n",
    "def function():\n",
    "    \"\"\"This function waits for event to be triggered.\"\"\"\n",
    "    \n",
    "    global EVENT\n",
    "    print(\"[Thread]: Waiting for event...\")\n",
    "\n",
    "    # This allows the thread to pause its execution until the event is triggered.\n",
    "    EVENT.wait()\n",
    "\n",
    "    print(\"[Thread]: Event was triggered.\")\n",
    "\n",
    "# Creating the thread,\n",
    "thread_obj = threading.Thread(target = function)\n",
    "thread_obj.start()\n",
    "\n",
    "# Event is triggered after the user input,\n",
    "USER_INPUT = input(\"Press any button to trigger the event. \\n\")\n",
    "EVENT.set()"
   ]
  },
  {
   "cell_type": "markdown",
   "id": "f69e3330",
   "metadata": {},
   "source": [
    "Event are in are domant stat when created via _threading.Event()_ and enter the triggered state when called through the _.set()_ method. The target function of a thread pauses its execution when _EVENT.wait()_ is executed and is only resumed once the event is triggered."
   ]
  },
  {
   "cell_type": "code",
   "execution_count": null,
   "id": "487b4350",
   "metadata": {},
   "outputs": [],
   "source": []
  }
 ],
 "metadata": {
  "kernelspec": {
   "display_name": "Python 3 (ipykernel)",
   "language": "python",
   "name": "python3"
  },
  "language_info": {
   "codemirror_mode": {
    "name": "ipython",
    "version": 3
   },
   "file_extension": ".py",
   "mimetype": "text/x-python",
   "name": "python",
   "nbconvert_exporter": "python",
   "pygments_lexer": "ipython3",
   "version": "3.10.1"
  }
 },
 "nbformat": 4,
 "nbformat_minor": 5
}
