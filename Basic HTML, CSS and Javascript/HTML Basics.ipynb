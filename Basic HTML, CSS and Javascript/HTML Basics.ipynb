{
 "cells": [
  {
   "cell_type": "markdown",
   "id": "62cee07e",
   "metadata": {},
   "source": [
    "# HTML Basics"
   ]
  },
  {
   "cell_type": "markdown",
   "id": "626b4a53",
   "metadata": {},
   "source": [
    "HTML stands for **H**yper**t**ext **M**arkup **L**anguage and it forms the foundation of all web pages. The basic structure and content of a webpage is expressed through HTML that your browser is able to parse and then display in a readable format. HTML is almost always used with **CSS** (determines presentation and style) and **JavaScript** (used to create internal logic). To display HTML in Jupyter,"
   ]
  },
  {
   "cell_type": "code",
   "execution_count": 4,
   "id": "b718197c",
   "metadata": {},
   "outputs": [],
   "source": [
    "from IPython.core.display import HTML"
   ]
  },
  {
   "cell_type": "markdown",
   "id": "d5897efc",
   "metadata": {},
   "source": [
    "Consider this very basic webpage in HTML (double-click to see code),"
   ]
  },
  {
   "cell_type": "markdown",
   "id": "aaa9e8ae",
   "metadata": {},
   "source": [
    "<!DOCTYPE html>\n",
    "\n",
    "<html>\n",
    "    <head>\n",
    "        <title> Simple Webpage </title>\n",
    "    </head>\n",
    "    <body> \n",
    "        <h1> This is a heading. </h1>\n",
    "        <p> This is a paragraph </p>\n",
    "    </body>\n",
    "</html>"
   ]
  },
  {
   "cell_type": "markdown",
   "id": "621f2597",
   "metadata": {},
   "source": [
    "A HTML webpage is made up of **elements**. All elements are defined by **tags**, an opening tage <!element> and a closing tag <!/element> since HTML is read from left to right by a parser. <!DOCTYPE html> is used to tell parsers that the file contains HTML. Webpages all begin with a <!html> tag and within this element there is the **head** and **body** "
   ]
  },
  {
   "cell_type": "markdown",
   "id": "05a68bdc",
   "metadata": {},
   "source": [
    "<!DOCTYPE html>\n",
    "\n",
    "<html>\n",
    "    <head>\n",
    "        <title> Pastitsada Recipe </title>\n",
    "        <style>\n",
    "\t\t\th1 {font-family:'Helvetica';\n",
    "                color:DarkRed;}\n",
    "            h2 {color:DarkRed;}\n",
    "            p {color:DimGray;}\n",
    "            ul {color:DimGray;}\n",
    "        </style>\n",
    "    </head>\n",
    "    <body style=\"background-color:OldLace;\"> \n",
    "        <h1> Pastitsada: A Corfu Favourite </h1>\n",
    "        <center> <img src=\"https://zelosgreekartisan.com/cdn/shop/articles/Pastitsada_1200x.jpg?v=1653766436\" alt=\"Pastitsada\" width=\"400\" height=\"500\"> </center>\n",
    "        <p> Pastitsada is a traditional dish from the island of Corfu in Greece, known for its <em>rich</em>, <em>hearty flavors</em> and <em>comforting warmth</em>. It typically features tender pieces of meat, often chicken or beef, slowly braised in a thick, tomato-based sauce. The sauce is infused with a robust blend of spices, including cinnamon, cloves, and allspice, giving it a distinctive and aromatic depth. The dish is often served over a bed of thick pasta, such as bucatini or rigatoni, which soaks up the flavorful sauce. The result is a deliciously savory and slightly sweet meal, perfect for a satisfying dinner. Pastitsada is a dish that embodies the fusion of Venetian and Greek culinary traditions, offering a taste of Corfu’s rich cultural history.\n",
    "        </p>\n",
    "        <h2> Ingredients </h2>\n",
    "        <ul>\n",
    "          <li> 2 pounds boneless beef cubes. </li>\n",
    "          <li> 1 pound pastitsio noodles (bucatini). </li>\n",
    "          <li> 2 onions, finely chopped. </li>\n",
    "          <li> 1/3 cup olive oil. </li>\n",
    "          <li> 3-4 garlic cloves, grated. </li>\n",
    "          <li> 1 (16 oz) can tomatoes, pureed. </li>\n",
    "          <li> 1 cup of water. </li>\n",
    "          <li> 1/4 teaspoon (or more) crushed red pepper flakes. </li>\n",
    "          <li> 1 Bay leaf. </li>\n",
    "          <li> 1/4 teaspoon ground cinnamon (optional). </li>\n",
    "          <li> 2-3 whole cloves. </li>\n",
    "          <li> Salt and black pepper to taste. </li>\n",
    "          <li> Grated Parmesan cheese or kefalograviera, grated. </li>\n",
    "          <li> 1/4 cup finely chopped fresh parsley. </li>\n",
    "        </ul>\n",
    "    </body>\n",
    "</html>"
   ]
  },
  {
   "cell_type": "code",
   "execution_count": null,
   "id": "88be7c0c",
   "metadata": {},
   "outputs": [],
   "source": []
  }
 ],
 "metadata": {
  "kernelspec": {
   "display_name": "Python 3 (ipykernel)",
   "language": "python",
   "name": "python3"
  },
  "language_info": {
   "codemirror_mode": {
    "name": "ipython",
    "version": 3
   },
   "file_extension": ".py",
   "mimetype": "text/x-python",
   "name": "python",
   "nbconvert_exporter": "python",
   "pygments_lexer": "ipython3",
   "version": "3.10.1"
  }
 },
 "nbformat": 4,
 "nbformat_minor": 5
}
