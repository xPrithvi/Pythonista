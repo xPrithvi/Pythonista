{
 "cells": [
  {
   "cell_type": "code",
   "execution_count": 1,
   "id": "e7caae44",
   "metadata": {},
   "outputs": [],
   "source": [
    "from bs4 import BeautifulSoup\n",
    "import requests"
   ]
  },
  {
   "cell_type": "code",
   "execution_count": 19,
   "id": "9c8a1028",
   "metadata": {},
   "outputs": [],
   "source": [
    "# Tesco website,\n",
    "\n",
    "headers = {\"User-Agent\": \"Mozilla/5.0 (Windows NT 10.0; Win64; x64) AppleWebKit/537.36 (KHTML, like Gecko) Chrome/127.0.0.0 Safari/537.36\",\n",
    "           \"Accept\": \"text/html\",\n",
    "           \"Accept-Language\": \"en-US\"}\n",
    "\n",
    "try:\n",
    "    response = requests.get(\"https://www.tesco.com/groceries/en-GB/shop/frozen-food/all\", headers = headers)\n",
    "    response_html = response.text\n",
    "    soup = BeautifulSoup(response_html, \"html.parser\")\n",
    "except Exception as error:\n",
    "    print(\"[Connection Failed]: {}\".format(error))"
   ]
  },
  {
   "cell_type": "code",
   "execution_count": 20,
   "id": "1038952e",
   "metadata": {},
   "outputs": [
    {
     "name": "stdout",
     "output_type": "stream",
     "text": [
      "<!DOCTYPE html>\n",
      "<html>\n",
      " <head>\n",
      "  <meta charset=\"utf-8\"/>\n",
      "  <meta content=\"width=device-width, initial-scale=1, shrink-to-fit=no\" name=\"viewport\"/>\n",
      "  <meta content=\"5; URL='/groceries/en-GB/shop/frozen-food/all?bm-verify=AAQAAAAJ_____0CoFumq1LWgCFaJA-8gCSRhSbRqqZS4lGOEi5VqLO80QT6vpx70zwvHxLsnLKzaPba62w5PnOfNUkIdC1707hbrGVAGbmK-wa6b2wUz_IaqZHnUHP6GMdcFqGaHVvuG05HeRd02Vc1d3MI676WKfS9Mta85XkzgaVTQJyaKZmEH5P2aYzpuh03JiR0Wb-V7OF6Npz46CkSv_Mpp3_pOVUes8uqc4PiIWHL_ADXrNYVx2OozNmrvos_vfIGQvIySQWHvqLj-TKvK9Ixce9PPe4zXqGBS2YusRw'\" http-equiv=\"refresh\">\n",
      "   <title>\n",
      "   </title>\n",
      "   <script>\n",
      "    var i = 1723412934; var j = i + Number(\"4979\" + \"69079\");\n",
      "   </script>\n",
      "  </meta>\n",
      " </head>\n",
      " <noscript>\n",
      "  <iframe src=\"\" style=\"border: none; height: 100%; width: 100%;\">\n",
      "  </iframe>\n",
      " </noscript>\n",
      " <script>\n",
      "  var xhr = new XMLHttpRequest(); xhr.withCredentials = true; xhr.addEventListener(\"loadend\", function() { try { var data = JSON.parse(xhr.responseText); if (data.hasOwnProperty('reload')) { if (data[\"reload\"] == true) { window.location.replace(window.location.href.replace(/[&?]bm-verify=[^#]*/, \"\"));  if(window.location.hash){ window.location.reload(); } } } else if (data.hasOwnProperty('location')) { window.location.replace(data[\"location\"]); } else { window.location.reload(); } } catch (e) { var data = {}; window.location.reload(); }}); xhr.open(\"POST\", \"/_sec/verify?provider=interstitial\", false); xhr.setRequestHeader(\"Content-Type\", \"application/json\"); xhr.send(JSON.stringify({\"bm-verify\": \"AAQAAAAJ/////+/pltQN3a+L1AJamcOYSMNevxkj+LZtgW6yHe3XqxmDWk0eX3JYTTGPn2aZkm8f4DglXP3BS+RQKO9nlJhlV7eeA5VFvoCBeYvrtCTgX47EO9RYVHQQ54JE7Eq5tP7RUiSBjbB5hc7zffb1uI5dxR8sE5v7zPg5gTAcXDAd/XFJWJh8yVTFl7cC2zIZmY2GGcj9yRwU2lvW0sBDEIzAHSC28EBQ+hoySIFa4gjs+I9jnz3aqW1Hb2aftpyXH7zH8BF8J+ZGAhHtbTza8SLcqE5jtGJXW72eIXGvvQ0Xd92rMa6fBCgz+9g=\", \"pow\": j}));\n",
      " </script>\n",
      "</html>\n"
     ]
    }
   ],
   "source": [
    "print(soup.prettify())"
   ]
  },
  {
   "cell_type": "code",
   "execution_count": null,
   "id": "d1b3e909",
   "metadata": {},
   "outputs": [],
   "source": []
  }
 ],
 "metadata": {
  "kernelspec": {
   "display_name": "Python 3 (ipykernel)",
   "language": "python",
   "name": "python3"
  },
  "language_info": {
   "codemirror_mode": {
    "name": "ipython",
    "version": 3
   },
   "file_extension": ".py",
   "mimetype": "text/x-python",
   "name": "python",
   "nbconvert_exporter": "python",
   "pygments_lexer": "ipython3",
   "version": "3.10.1"
  }
 },
 "nbformat": 4,
 "nbformat_minor": 5
}
