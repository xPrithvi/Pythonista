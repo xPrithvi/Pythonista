{
 "cells": [
  {
   "cell_type": "markdown",
   "id": "cdee3914",
   "metadata": {},
   "source": [
    "# Port Scanner"
   ]
  },
  {
   "cell_type": "markdown",
   "id": "a99d19fa",
   "metadata": {},
   "source": [
    "Port scanners are primarily used for Penetration Testing and Information Gathering. Essentially, we are looking for open ports in a host for one of two reasons. To ensure our servers are secure or to exploit those of someone else. An unnecessarily opened port means vulnerability and comes with a lack of security. Therefore, it is reasonable to scan the ports of your own network in order to spot potential security gaps."
   ]
  },
  {
   "cell_type": "markdown",
   "id": "81745eec",
   "metadata": {},
   "source": [
    "## No Threading\n",
    "\n",
    "Bare bones port scanner with no threading enabled."
   ]
  },
  {
   "cell_type": "code",
   "execution_count": null,
   "id": "a61c94d6",
   "metadata": {},
   "outputs": [],
   "source": [
    "import socket\n",
    "\n",
    "def scanPort(ip_address, port_number):\n",
    "    \"\"\"Attemtps to connect with the port of the specified number. Returns boolean\n",
    "    True if succesful and False if not.\"\"\"\n",
    "    try:\n",
    "        # Creating an internet socket with the TCP protocol,\n",
    "        sock = socket.socket(socket.AF_INET, socket.SOCK_STREAM)\n",
    "        sock.connect((ip_address, port_number))\n",
    "        return True\n",
    "    except:\n",
    "        return False\n",
    "\n",
    "# Finding HOST IP address,\n",
    "HOST_NAME = socket.gethostname()\n",
    "IP_ADDRESS = socket.gethostbyname(HOST_NAME)\n",
    "\n",
    "# Attempting to connect to all ports,\n",
    "for i in range(129, 65536):\n",
    "    HOST_NAME = socket.gethostname()\n",
    "    IP_ADDRESS = socket.gethostbyname(HOST_NAME)\n",
    "    print(\"\\r\", \"[Trying Port {}/65535]\".format(i), end = \" \")\n",
    "    PORT = scanPort(IP_ADDRESS, i)\n",
    "\n",
    "    if PORT == True:\n",
    "        print(\"--> Port {} Open\".format(i))"
   ]
  },
  {
   "cell_type": "markdown",
   "id": "2fe3ed3e",
   "metadata": {},
   "source": [
    "Notice that without threading, our port scanning program is extremely slow."
   ]
  },
  {
   "cell_type": "markdown",
   "id": "387564f9",
   "metadata": {},
   "source": [
    "## Threading Enabled"
   ]
  },
  {
   "cell_type": "code",
   "execution_count": null,
   "id": "83999ede",
   "metadata": {},
   "outputs": [
    {
     "name": "stderr",
     "output_type": "stream",
     "text": [
      "<>:33: SyntaxWarning: invalid escape sequence '\\ '\n",
      "<>:33: SyntaxWarning: invalid escape sequence '\\ '\n",
      "C:\\Users\\Prithvi\\AppData\\Local\\Temp\\ipykernel_12004\\2004645143.py:33: SyntaxWarning: invalid escape sequence '\\ '\n",
      "  BANNER = \"\"\"\n"
     ]
    },
    {
     "name": "stdout",
     "output_type": "stream",
     "text": [
      "\n",
      " ____            _     ____                                  \n",
      "|  _ \\ ___  _ __| |_  / ___|  ___ __ _ _ __  _ __   ___ _ __ \n",
      "| |_) / _ \\| '__| __| \\___ \\ / __/ _` | '_ \\| '_ \\ / _ \\ '__|\n",
      "|  __/ (_) | |  | |_   ___) | (_| (_| | | | | | | |  __/ |   \n",
      "|_|   \\___/|_|   \\__| |____/ \\___\\__,_|_| |_|_| |_|\\___|_|   \n",
      "\n",
      "\n",
      "-------------------------------------------------------------------------------------------- \n",
      "\n",
      "ENTER '1': Scan all standardised ports from 1 through 1023.\n",
      "ENTER '2': Scan ALL ports 1 through 65535.\n"
     ]
    },
    {
     "name": "stdin",
     "output_type": "stream",
     "text": [
      ">>  2\n"
     ]
    },
    {
     "name": "stdout",
     "output_type": "stream",
     "text": [
      "Remaining Ports: 0  ██████████████████████████████████████████████████ 100.0 %%%%\n",
      " Open Ports [135, 139, 445, 5040, 7680, 49665, 49668, 49666, 49667, 49664, 49669]\n"
     ]
    }
   ],
   "source": [
    "import socket\n",
    "import threading\n",
    "import queue\n",
    "import time\n",
    "\n",
    "def scanPort(ip_address, port_number):\n",
    "    \"\"\"Attemtps to connect with the port of the specified number. Returns boolean\n",
    "    True if succesful and False if not.\"\"\"\n",
    "\n",
    "    try:\n",
    "        # Creating an internet socket with the TCP protocol,\n",
    "        sock = socket.socket(socket.AF_INET, socket.SOCK_STREAM)\n",
    "        sock.connect((ip_address, port_number))\n",
    "        sock.close()\n",
    "        return True\n",
    "    except:\n",
    "        return False\n",
    "\n",
    "def worker(ip_address):\n",
    "    global PORT_QUEUE, PORT_LIST\n",
    "\n",
    "    while not PORT_QUEUE.empty():\n",
    "        port_number = PORT_QUEUE.get()\n",
    "\n",
    "        if scanPort(ip_address, port_number) == True:\n",
    "            PORT_LIST.append(port_number)\n",
    "        else:\n",
    "            pass\n",
    "\n",
    "if __name__ == \"__main__\":\n",
    "    # Print banner,\n",
    "\n",
    "    BANNER = \"\"\"\n",
    " ____            _     ____                                  \n",
    "|  _ \\ ___  _ __| |_  / ___|  ___ __ _ _ __  _ __   ___ _ __ \n",
    "| |_) / _ \\| '__| __| \\___ \\ / __/ _` | '_ \\| '_ \\ / _ \\ '__|\n",
    "|  __/ (_) | |  | |_   ___) | (_| (_| | | | | | | |  __/ |   \n",
    "|_|   \\___/|_|   \\__| |____/ \\___\\__,_|_| |_|_| |_|\\___|_|   \n",
    "\n",
    "\"\"\"\n",
    "\n",
    "    print(BANNER)\n",
    "    print(\"-------------------------------------------------------------------------------------------- \\n\")\n",
    "\n",
    "    # Asking user for scanning mode,\n",
    "    print(\"\"\"ENTER '1': Scan all standardised ports from 1 through 1023.\n",
    "ENTER '2': Scan ALL ports 1 through 65535.\"\"\")\n",
    "\n",
    "    VALID_INPUT = False\n",
    "    while VALID_INPUT == False:\n",
    "        USER_MODE = input(\">> \")\n",
    "\n",
    "        if USER_MODE == \"1\":\n",
    "            MAX_PORT_NUM = 1024\n",
    "            VALID_INPUT = True\n",
    "        elif USER_MODE == \"2\":\n",
    "            MAX_PORT_NUM = 65536\n",
    "            VALID_INPUT = True\n",
    "        else:\n",
    "            print(\"Invalid user input.\")\n",
    "\n",
    "    # Finding HOST IP address,\n",
    "    HOST_NAME = socket.gethostname()\n",
    "    IP_ADDRESS = socket.gethostbyname(HOST_NAME)\n",
    "\n",
    "    # Creating queue,\n",
    "    PORT_QUEUE = queue.Queue()\n",
    "\n",
    "    for PORT_NUM in range(1, MAX_PORT_NUM):\n",
    "        PORT_QUEUE.put(PORT_NUM)\n",
    "\n",
    "    # Creating threads,\n",
    "    THREAD_NUMBER = 500\n",
    "    THREAD_LIST = []\n",
    "    PORT_LIST = []\n",
    "    for thread_number in range(THREAD_NUMBER):\n",
    "        thread_obj = threading.Thread(target=worker, args = (IP_ADDRESS,), daemon = True)\n",
    "        THREAD_LIST.append(thread_obj)\n",
    "\n",
    "    # Starting threads,\n",
    "    for thread_obj in THREAD_LIST:\n",
    "        thread_obj.start()\n",
    "\n",
    "    while not PORT_QUEUE.empty():\n",
    "        time.sleep(1)\n",
    "\n",
    "        # Progress bar\n",
    "        bar_length = 50\n",
    "        progress_int = int((MAX_PORT_NUM - PORT_QUEUE.qsize())/(MAX_PORT_NUM/bar_length))\n",
    "        percentage = 100*(MAX_PORT_NUM - PORT_QUEUE.qsize())/MAX_PORT_NUM\n",
    "        progress_bar = \"█\"*progress_int + \"-\"*(bar_length - progress_int) + \" {:.1f} %\".format(percentage)\n",
    "\n",
    "        print(\"Remaining Ports: {}  {}\".format(PORT_QUEUE.qsize(), progress_bar), end = '\\r', flush = True)\n",
    "    print(f\"\\n Open Ports {str(PORT_LIST)}\")\n",
    "\n",
    "    input(\"Press any key to exit...\")"
   ]
  },
  {
   "cell_type": "code",
   "execution_count": null,
   "id": "84c0cf8e-1bec-4f30-9b63-4d61287545f2",
   "metadata": {},
   "outputs": [],
   "source": []
  }
 ],
 "metadata": {
  "kernelspec": {
   "display_name": "Python 3 (ipykernel)",
   "language": "python",
   "name": "python3"
  },
  "language_info": {
   "codemirror_mode": {
    "name": "ipython",
    "version": 3
   },
   "file_extension": ".py",
   "mimetype": "text/x-python",
   "name": "python",
   "nbconvert_exporter": "python",
   "pygments_lexer": "ipython3",
   "version": "3.12.5"
  }
 },
 "nbformat": 4,
 "nbformat_minor": 5
}
