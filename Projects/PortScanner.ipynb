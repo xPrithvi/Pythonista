{
 "cells": [
  {
   "cell_type": "markdown",
   "id": "cdee3914",
   "metadata": {},
   "source": [
    "# Port Scanner"
   ]
  },
  {
   "cell_type": "markdown",
   "id": "a99d19fa",
   "metadata": {},
   "source": [
    "Port scanners are primarily used for Penetration Testing and Information Gathering. Essentially, we are looking for open ports in a host for one of two reasons. To ensure our servers are secure or to exploit those of someone else. An unnecessarily opened port means vulnerability and comes with a lack of security. Therefore, it is reasonable to scan the ports of your own network in order to spot potential security gaps."
   ]
  },
  {
   "cell_type": "markdown",
   "id": "81745eec",
   "metadata": {},
   "source": [
    "## No Threading\n",
    "\n",
    "Bare bones port scanner with no threading enabled."
   ]
  },
  {
   "cell_type": "code",
   "execution_count": null,
   "id": "a61c94d6",
   "metadata": {},
   "outputs": [],
   "source": [
    "import socket\n",
    "\n",
    "def scanPort(ip_address, port_number):\n",
    "    \"\"\"Attemtps to connect with the port of the specified number. Returns boolean\n",
    "    True if succesful and False if not.\"\"\"\n",
    "    try:\n",
    "        # Creating an internet socket with the TCP protocol,\n",
    "        sock = socket.socket(socket.AF_INET, socket.SOCK_STREAM)\n",
    "        sock.connect((ip_address, port_number))\n",
    "        return True\n",
    "    except:\n",
    "        return False\n",
    "\n",
    "# Finding HOST IP address,\n",
    "HOST_NAME = socket.gethostname()\n",
    "IP_ADDRESS = socket.gethostbyname(HOST_NAME)\n",
    "\n",
    "# Attempting to connect to all ports,\n",
    "for i in range(129, 65536):\n",
    "    HOST_NAME = socket.gethostname()\n",
    "    IP_ADDRESS = socket.gethostbyname(HOST_NAME)\n",
    "    print(\"\\r\", \"[Trying Port {}/65535]\".format(i), end = \" \")\n",
    "    PORT = scanPort(IP_ADDRESS, i)\n",
    "\n",
    "    if PORT == True:\n",
    "        print(\"--> Port {} Open\".format(i))"
   ]
  },
  {
   "cell_type": "markdown",
   "id": "2fe3ed3e",
   "metadata": {},
   "source": [
    "Notice that without threading, our port scanning program is extremely slow."
   ]
  },
  {
   "cell_type": "markdown",
   "id": "387564f9",
   "metadata": {},
   "source": [
    "## Threading Enabled"
   ]
  },
  {
   "cell_type": "code",
   "execution_count": 1,
   "id": "83999ede",
   "metadata": {},
   "outputs": [
    {
     "name": "stdout",
     "output_type": "stream",
     "text": [
      "\n",
      " ____            _     ____                                  \n",
      "|  _ \\ ___  _ __| |_  / ___|  ___ __ _ _ __  _ __   ___ _ __ \n",
      "| |_) / _ \\| '__| __| \\___ \\ / __/ _` | '_ \\| '_ \\ / _ \\ '__|\n",
      "|  __/ (_) | |  | |_   ___) | (_| (_| | | | | | | |  __/ |   \n",
      "|_|   \\___/|_|   \\__| |____/ \\___\\__,_|_| |_|_| |_|\\___|_|   \n",
      "\n",
      "\n",
      "-------------------------------------------------------------- \n",
      "\n",
      "ENTER '1': Scan all standardised ports from 1 through 1023.\n",
      "ENTER '2': Scan ALL ports 1 through 65535.\n",
      ">> 2\n",
      "Remaining Ports: 63281 |█------------------------------------------------- 3.4 %| Open Ports: [135, 139, 445] \r"
     ]
    },
    {
     "ename": "KeyboardInterrupt",
     "evalue": "",
     "output_type": "error",
     "traceback": [
      "\u001b[1;31m---------------------------------------------------------------------------\u001b[0m",
      "\u001b[1;31mKeyboardInterrupt\u001b[0m                         Traceback (most recent call last)",
      "Input \u001b[1;32mIn [1]\u001b[0m, in \u001b[0;36m<cell line: 30>\u001b[1;34m()\u001b[0m\n\u001b[0;32m     81\u001b[0m     thread_obj\u001b[38;5;241m.\u001b[39mstart()\n\u001b[0;32m     83\u001b[0m \u001b[38;5;28;01mwhile\u001b[39;00m \u001b[38;5;129;01mnot\u001b[39;00m PORT_QUEUE\u001b[38;5;241m.\u001b[39mempty():\n\u001b[1;32m---> 84\u001b[0m     \u001b[43mtime\u001b[49m\u001b[38;5;241;43m.\u001b[39;49m\u001b[43msleep\u001b[49m\u001b[43m(\u001b[49m\u001b[38;5;241;43m1\u001b[39;49m\u001b[43m)\u001b[49m\n\u001b[0;32m     86\u001b[0m     \u001b[38;5;66;03m# Progress bar\u001b[39;00m\n\u001b[0;32m     87\u001b[0m     bar_length \u001b[38;5;241m=\u001b[39m \u001b[38;5;241m50\u001b[39m\n",
      "\u001b[1;31mKeyboardInterrupt\u001b[0m: "
     ]
    }
   ],
   "source": [
    "import socket\n",
    "import threading\n",
    "import queue\n",
    "import time\n",
    "\n",
    "def scanPort(ip_address, port_number):\n",
    "    \"\"\"Attemtps to connect with the port of the specified number. Returns boolean\n",
    "    True if succesful and False if not.\"\"\"\n",
    "\n",
    "    try:\n",
    "        # Creating an internet socket with the TCP protocol,\n",
    "        sock = socket.socket(socket.AF_INET, socket.SOCK_STREAM)\n",
    "        sock.connect((ip_address, port_number))\n",
    "        sock.close()\n",
    "        return True\n",
    "    except:\n",
    "        return False\n",
    "\n",
    "def worker(ip_address):\n",
    "    global PORT_QUEUE, PORT_LIST\n",
    "\n",
    "    while not PORT_QUEUE.empty():\n",
    "        port_number = PORT_QUEUE.get()\n",
    "\n",
    "        if scanPort(ip_address, port_number) == True:\n",
    "            PORT_LIST.append(port_number)\n",
    "        else:\n",
    "            pass\n",
    "\n",
    "if __name__ == \"__main__\":\n",
    "    # Print banner,\n",
    "\n",
    "    BANNER = \"\"\"\n",
    " ____            _     ____                                  \n",
    "|  _ \\ ___  _ __| |_  / ___|  ___ __ _ _ __  _ __   ___ _ __ \n",
    "| |_) / _ \\| '__| __| \\___ \\ / __/ _` | '_ \\| '_ \\ / _ \\ '__|\n",
    "|  __/ (_) | |  | |_   ___) | (_| (_| | | | | | | |  __/ |   \n",
    "|_|   \\___/|_|   \\__| |____/ \\___\\__,_|_| |_|_| |_|\\___|_|   \n",
    "\n",
    "\"\"\"\n",
    "\n",
    "    print(BANNER)\n",
    "    print(\"-------------------------------------------------------------- \\n\")\n",
    "\n",
    "    # Asking user for scanning mode,\n",
    "    print(\"\"\"ENTER '1': Scan all standardised ports from 1 through 1023.\n",
    "ENTER '2': Scan ALL ports 1 through 65535.\"\"\")\n",
    "\n",
    "    VALID_INPUT = False\n",
    "    while VALID_INPUT == False:\n",
    "        USER_MODE = input(\">> \")\n",
    "\n",
    "        if USER_MODE == \"1\":\n",
    "            MAX_PORT_NUM = 1024\n",
    "            VALID_INPUT = True\n",
    "        elif USER_MODE == \"2\":\n",
    "            MAX_PORT_NUM = 65536\n",
    "            VALID_INPUT = True\n",
    "        else:\n",
    "            print(\"Invalid user input.\")\n",
    "\n",
    "    # Finding HOST IP address,\n",
    "    HOST_NAME = socket.gethostname()\n",
    "    IP_ADDRESS = socket.gethostbyname(HOST_NAME)\n",
    "\n",
    "    # Creating queue,\n",
    "    PORT_QUEUE = queue.Queue()\n",
    "\n",
    "    for PORT_NUM in range(1, MAX_PORT_NUM):\n",
    "        PORT_QUEUE.put(PORT_NUM)\n",
    "\n",
    "    # Creating threads,\n",
    "    THREAD_NUMBER = 500\n",
    "    THREAD_LIST = []\n",
    "    PORT_LIST = []\n",
    "    for thread_number in range(THREAD_NUMBER):\n",
    "        thread_obj = threading.Thread(target=worker, args = (IP_ADDRESS,), daemon = True)\n",
    "        THREAD_LIST.append(thread_obj)\n",
    "\n",
    "    # Starting threads,\n",
    "    for thread_obj in THREAD_LIST:\n",
    "        thread_obj.start()\n",
    "\n",
    "    while not PORT_QUEUE.empty():\n",
    "        time.sleep(1)\n",
    "\n",
    "        # Progress bar\n",
    "        bar_length = 50\n",
    "        progress_int = int((MAX_PORT_NUM - PORT_QUEUE.qsize())/(MAX_PORT_NUM/bar_length))\n",
    "        percentage = 100*(MAX_PORT_NUM - PORT_QUEUE.qsize())/MAX_PORT_NUM\n",
    "        progress_bar = \"█\"*progress_int + \"-\"*(bar_length - progress_int) + \" {:.1f} %\".format(percentage)\n",
    "\n",
    "        print(\"Remaining Ports: {} |{}| Open Ports: {} \".format(PORT_QUEUE.qsize(), progress_bar, PORT_LIST), end = '\\r', flush = True)\n",
    "\n",
    "    input(\"\\n Press any key to exit...\")"
   ]
  },
  {
   "cell_type": "code",
   "execution_count": null,
   "id": "82ea7169",
   "metadata": {},
   "outputs": [],
   "source": []
  }
 ],
 "metadata": {
  "kernelspec": {
   "display_name": "Python 3 (ipykernel)",
   "language": "python",
   "name": "python3"
  },
  "language_info": {
   "codemirror_mode": {
    "name": "ipython",
    "version": 3
   },
   "file_extension": ".py",
   "mimetype": "text/x-python",
   "name": "python",
   "nbconvert_exporter": "python",
   "pygments_lexer": "ipython3",
   "version": "3.10.1"
  }
 },
 "nbformat": 4,
 "nbformat_minor": 5
}
