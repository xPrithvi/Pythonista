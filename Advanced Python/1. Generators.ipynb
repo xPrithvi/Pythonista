{
 "cells": [
  {
   "cell_type": "markdown",
   "id": "be88235b",
   "metadata": {},
   "source": [
    "# 1. Generators"
   ]
  },
  {
   "cell_type": "code",
   "execution_count": 2,
   "id": "50f69799",
   "metadata": {},
   "outputs": [
    {
     "name": "stdout",
     "output_type": "stream",
     "text": [
      "[1, 4, 9, 16, 25, 36, 49, 64, 81, 100, 121, 144, 169, 196, 225, 256, 289, 324, 361, 400, 441, 484, 529, 576]\n"
     ]
    }
   ],
   "source": [
    "n_list = []\n",
    "\n",
    "for i in range(1, 25):\n",
    "    n_list.append(i**2)\n",
    "\n",
    "print(n_list)"
   ]
  },
  {
   "cell_type": "code",
   "execution_count": null,
   "id": "009ef24d",
   "metadata": {},
   "outputs": [],
   "source": []
  }
 ],
 "metadata": {
  "kernelspec": {
   "display_name": "Python 3 (ipykernel)",
   "language": "python",
   "name": "python3"
  },
  "language_info": {
   "codemirror_mode": {
    "name": "ipython",
    "version": 3
   },
   "file_extension": ".py",
   "mimetype": "text/x-python",
   "name": "python",
   "nbconvert_exporter": "python",
   "pygments_lexer": "ipython3",
   "version": "3.10.1"
  }
 },
 "nbformat": 4,
 "nbformat_minor": 5
}
